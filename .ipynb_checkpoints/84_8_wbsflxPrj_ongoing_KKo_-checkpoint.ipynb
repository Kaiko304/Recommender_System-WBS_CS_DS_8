{
 "cells": [
  {
   "cell_type": "markdown",
   "id": "51d0fccd-e329-448e-860c-d5452e29670a",
   "metadata": {},
   "source": [
    "# WBSflix Recommender System (module 80)"
   ]
  },
  {
   "cell_type": "markdown",
   "id": "3adba98a-caae-4307-856f-b70c3633c1af",
   "metadata": {},
   "source": [
    "**task 1: popularity recommender**\n",
    "\n",
    "create a function that takes an input ‘n’ (n is an integer, how many movies we wish to display) and outputs the top n movies so that you can populate the first row of WBSFLIX’s site. Be careful not to recommend any 5-star movies with only one rating.y”."
   ]
  },
  {
   "cell_type": "markdown",
   "id": "0b18f87a-e332-4e6a-8e5c-e9ad604470d4",
   "metadata": {},
   "source": [
    "# Imports and Settings"
   ]
  },
  {
   "cell_type": "code",
   "execution_count": 1,
   "id": "a20178f5-4842-4cf0-a81e-194e87f954c5",
   "metadata": {
    "tags": []
   },
   "outputs": [],
   "source": [
    "import pandas as pd\n",
    "# import matplotlib as plt\n",
    "# import seaborn as sns"
   ]
  },
  {
   "cell_type": "code",
   "execution_count": 2,
   "id": "24fbbeb0-3cca-49d0-8dca-d25e12f25073",
   "metadata": {},
   "outputs": [],
   "source": [
    "# url = 'https://drive.google.com/file/d/1CcC-fGHMV1BYwCUC-7S0hb2KbDHSGzEe/view?usp=sharing'\n",
    "# path = 'https://drive.google.com/uc?export=download&id='+url.split('/')[-2]\n",
    "# ratings = pd.read_csv(path)\n",
    "\n",
    "# url = 'https://drive.google.com/file/d/11mLtDFT7p2a0vpyfgj3f8DOmlViMzaFF/view?usp=sharing'\n",
    "# path = 'https://drive.google.com/uc?export=download&id='+url.split('/')[-2]\n",
    "# tags = pd.read_csv(path)\n",
    "\n",
    "# url = 'https://drive.google.com/file/d/1MgafIOm4Obc8hOqGUkNp1Ip4ffZ5ENyE/view?usp=sharing'\n",
    "# path = 'https://drive.google.com/uc?export=download&id='+url.split('/')[-2]\n",
    "# movies = pd.read_csv(path)\n",
    "\n",
    "# url = 'https://drive.google.com/file/d/1yWn-09u5tQ6ROdI7Weoe09YdNNlifOaQ/view?usp=sharing'\n",
    "# path = 'https://drive.google.com/uc?export=download&id='+url.split('/')[-2]\n",
    "# links = pd.read_csv(path)"
   ]
  },
  {
   "cell_type": "code",
   "execution_count": 3,
   "id": "05ebb829-c8d4-41b3-a2b1-f2ffd7298194",
   "metadata": {},
   "outputs": [],
   "source": [
    "# import data\n",
    "links = pd.read_table(\"data/links.csv\", sep=\",\")\n",
    "movies = pd.read_table(\"data/movies.csv\", sep=\",\")\n",
    "tags = pd.read_table(\"data/tags.csv\", sep=\",\")\n",
    "ratings = pd.read_table(\"data/ratings.csv\", sep=\",\")"
   ]
  },
  {
   "cell_type": "markdown",
   "id": "9d3ead98-fedf-4c7c-b359-95e2cf07bd96",
   "metadata": {},
   "source": [
    "# Data Exploration"
   ]
  },
  {
   "cell_type": "markdown",
   "id": "0792fd1a-14da-4fba-8829-e13c66f9e955",
   "metadata": {},
   "source": [
    "## movies EDA"
   ]
  },
  {
   "cell_type": "code",
   "execution_count": 4,
   "id": "c0a39865-4b43-4b70-9c2c-a2f2ee965f81",
   "metadata": {},
   "outputs": [
    {
     "name": "stdout",
     "output_type": "stream",
     "text": [
      "<class 'pandas.core.frame.DataFrame'>\n",
      "RangeIndex: 9742 entries, 0 to 9741\n",
      "Data columns (total 3 columns):\n",
      " #   Column   Non-Null Count  Dtype \n",
      "---  ------   --------------  ----- \n",
      " 0   movieId  9742 non-null   int64 \n",
      " 1   title    9742 non-null   object\n",
      " 2   genres   9742 non-null   object\n",
      "dtypes: int64(1), object(2)\n",
      "memory usage: 228.5+ KB\n"
     ]
    }
   ],
   "source": [
    "movies.info()"
   ]
  },
  {
   "cell_type": "code",
   "execution_count": 5,
   "id": "4dacbccf-3e91-4e63-b812-0f5ee41730ac",
   "metadata": {},
   "outputs": [
    {
     "data": {
      "text/html": [
       "<div>\n",
       "<style scoped>\n",
       "    .dataframe tbody tr th:only-of-type {\n",
       "        vertical-align: middle;\n",
       "    }\n",
       "\n",
       "    .dataframe tbody tr th {\n",
       "        vertical-align: top;\n",
       "    }\n",
       "\n",
       "    .dataframe thead th {\n",
       "        text-align: right;\n",
       "    }\n",
       "</style>\n",
       "<table border=\"1\" class=\"dataframe\">\n",
       "  <thead>\n",
       "    <tr style=\"text-align: right;\">\n",
       "      <th></th>\n",
       "      <th>movieId</th>\n",
       "      <th>title</th>\n",
       "      <th>genres</th>\n",
       "    </tr>\n",
       "  </thead>\n",
       "  <tbody>\n",
       "    <tr>\n",
       "      <th>0</th>\n",
       "      <td>1</td>\n",
       "      <td>Toy Story (1995)</td>\n",
       "      <td>Adventure|Animation|Children|Comedy|Fantasy</td>\n",
       "    </tr>\n",
       "    <tr>\n",
       "      <th>1</th>\n",
       "      <td>2</td>\n",
       "      <td>Jumanji (1995)</td>\n",
       "      <td>Adventure|Children|Fantasy</td>\n",
       "    </tr>\n",
       "  </tbody>\n",
       "</table>\n",
       "</div>"
      ],
      "text/plain": [
       "   movieId             title                                       genres\n",
       "0        1  Toy Story (1995)  Adventure|Animation|Children|Comedy|Fantasy\n",
       "1        2    Jumanji (1995)                   Adventure|Children|Fantasy"
      ]
     },
     "execution_count": 5,
     "metadata": {},
     "output_type": "execute_result"
    }
   ],
   "source": [
    "movies.head(2)\n",
    "\n",
    "# onehotencoder for genres? or RegEx?"
   ]
  },
  {
   "cell_type": "code",
   "execution_count": 6,
   "id": "832eccf8-b4e8-434c-aedd-7544f06d2e94",
   "metadata": {},
   "outputs": [
    {
     "data": {
      "text/plain": [
       "(9742, 3)"
      ]
     },
     "execution_count": 6,
     "metadata": {},
     "output_type": "execute_result"
    }
   ],
   "source": [
    "movies.shape"
   ]
  },
  {
   "cell_type": "markdown",
   "id": "5d77a875-6f32-400b-acfe-e0e8dd569dda",
   "metadata": {},
   "source": [
    "## ratings EDA"
   ]
  },
  {
   "cell_type": "code",
   "execution_count": 7,
   "id": "59403efb-0313-4cbe-aaf6-1fab86dfbc84",
   "metadata": {},
   "outputs": [
    {
     "name": "stdout",
     "output_type": "stream",
     "text": [
      "<class 'pandas.core.frame.DataFrame'>\n",
      "RangeIndex: 100836 entries, 0 to 100835\n",
      "Data columns (total 4 columns):\n",
      " #   Column     Non-Null Count   Dtype  \n",
      "---  ------     --------------   -----  \n",
      " 0   userId     100836 non-null  int64  \n",
      " 1   movieId    100836 non-null  int64  \n",
      " 2   rating     100836 non-null  float64\n",
      " 3   timestamp  100836 non-null  int64  \n",
      "dtypes: float64(1), int64(3)\n",
      "memory usage: 3.1 MB\n"
     ]
    }
   ],
   "source": [
    "ratings.info()"
   ]
  },
  {
   "cell_type": "code",
   "execution_count": 8,
   "id": "8951d4da-c475-4aca-8e19-9f3999d49b07",
   "metadata": {},
   "outputs": [
    {
     "data": {
      "text/html": [
       "<div>\n",
       "<style scoped>\n",
       "    .dataframe tbody tr th:only-of-type {\n",
       "        vertical-align: middle;\n",
       "    }\n",
       "\n",
       "    .dataframe tbody tr th {\n",
       "        vertical-align: top;\n",
       "    }\n",
       "\n",
       "    .dataframe thead th {\n",
       "        text-align: right;\n",
       "    }\n",
       "</style>\n",
       "<table border=\"1\" class=\"dataframe\">\n",
       "  <thead>\n",
       "    <tr style=\"text-align: right;\">\n",
       "      <th></th>\n",
       "      <th>userId</th>\n",
       "      <th>movieId</th>\n",
       "      <th>rating</th>\n",
       "      <th>timestamp</th>\n",
       "    </tr>\n",
       "  </thead>\n",
       "  <tbody>\n",
       "    <tr>\n",
       "      <th>0</th>\n",
       "      <td>1</td>\n",
       "      <td>1</td>\n",
       "      <td>4.0</td>\n",
       "      <td>964982703</td>\n",
       "    </tr>\n",
       "    <tr>\n",
       "      <th>1</th>\n",
       "      <td>1</td>\n",
       "      <td>3</td>\n",
       "      <td>4.0</td>\n",
       "      <td>964981247</td>\n",
       "    </tr>\n",
       "  </tbody>\n",
       "</table>\n",
       "</div>"
      ],
      "text/plain": [
       "   userId  movieId  rating  timestamp\n",
       "0       1        1     4.0  964982703\n",
       "1       1        3     4.0  964981247"
      ]
     },
     "execution_count": 8,
     "metadata": {},
     "output_type": "execute_result"
    }
   ],
   "source": [
    "ratings.head(2)"
   ]
  },
  {
   "cell_type": "code",
   "execution_count": 9,
   "id": "b82cdcde-14fc-45bb-a200-a71cc747e264",
   "metadata": {},
   "outputs": [
    {
     "data": {
      "text/plain": [
       "userId         610\n",
       "movieId       9724\n",
       "rating          10\n",
       "timestamp    85043\n",
       "dtype: int64"
      ]
     },
     "execution_count": 9,
     "metadata": {},
     "output_type": "execute_result"
    }
   ],
   "source": [
    "ratings.nunique()"
   ]
  },
  {
   "cell_type": "code",
   "execution_count": 10,
   "id": "93698d10-6221-4964-aee8-a180fa9bed00",
   "metadata": {},
   "outputs": [
    {
     "data": {
      "text/html": [
       "<div>\n",
       "<style scoped>\n",
       "    .dataframe tbody tr th:only-of-type {\n",
       "        vertical-align: middle;\n",
       "    }\n",
       "\n",
       "    .dataframe tbody tr th {\n",
       "        vertical-align: top;\n",
       "    }\n",
       "\n",
       "    .dataframe thead th {\n",
       "        text-align: right;\n",
       "    }\n",
       "</style>\n",
       "<table border=\"1\" class=\"dataframe\">\n",
       "  <thead>\n",
       "    <tr style=\"text-align: right;\">\n",
       "      <th></th>\n",
       "      <th>userId</th>\n",
       "      <th>movieId</th>\n",
       "      <th>rating</th>\n",
       "      <th>timestamp</th>\n",
       "    </tr>\n",
       "  </thead>\n",
       "  <tbody>\n",
       "    <tr>\n",
       "      <th>count</th>\n",
       "      <td>100836.000000</td>\n",
       "      <td>100836.000000</td>\n",
       "      <td>100836.000000</td>\n",
       "      <td>1.008360e+05</td>\n",
       "    </tr>\n",
       "    <tr>\n",
       "      <th>mean</th>\n",
       "      <td>326.127564</td>\n",
       "      <td>19435.295718</td>\n",
       "      <td>3.501557</td>\n",
       "      <td>1.205946e+09</td>\n",
       "    </tr>\n",
       "    <tr>\n",
       "      <th>std</th>\n",
       "      <td>182.618491</td>\n",
       "      <td>35530.987199</td>\n",
       "      <td>1.042529</td>\n",
       "      <td>2.162610e+08</td>\n",
       "    </tr>\n",
       "    <tr>\n",
       "      <th>min</th>\n",
       "      <td>1.000000</td>\n",
       "      <td>1.000000</td>\n",
       "      <td>0.500000</td>\n",
       "      <td>8.281246e+08</td>\n",
       "    </tr>\n",
       "    <tr>\n",
       "      <th>25%</th>\n",
       "      <td>177.000000</td>\n",
       "      <td>1199.000000</td>\n",
       "      <td>3.000000</td>\n",
       "      <td>1.019124e+09</td>\n",
       "    </tr>\n",
       "    <tr>\n",
       "      <th>50%</th>\n",
       "      <td>325.000000</td>\n",
       "      <td>2991.000000</td>\n",
       "      <td>3.500000</td>\n",
       "      <td>1.186087e+09</td>\n",
       "    </tr>\n",
       "    <tr>\n",
       "      <th>75%</th>\n",
       "      <td>477.000000</td>\n",
       "      <td>8122.000000</td>\n",
       "      <td>4.000000</td>\n",
       "      <td>1.435994e+09</td>\n",
       "    </tr>\n",
       "    <tr>\n",
       "      <th>max</th>\n",
       "      <td>610.000000</td>\n",
       "      <td>193609.000000</td>\n",
       "      <td>5.000000</td>\n",
       "      <td>1.537799e+09</td>\n",
       "    </tr>\n",
       "  </tbody>\n",
       "</table>\n",
       "</div>"
      ],
      "text/plain": [
       "              userId        movieId         rating     timestamp\n",
       "count  100836.000000  100836.000000  100836.000000  1.008360e+05\n",
       "mean      326.127564   19435.295718       3.501557  1.205946e+09\n",
       "std       182.618491   35530.987199       1.042529  2.162610e+08\n",
       "min         1.000000       1.000000       0.500000  8.281246e+08\n",
       "25%       177.000000    1199.000000       3.000000  1.019124e+09\n",
       "50%       325.000000    2991.000000       3.500000  1.186087e+09\n",
       "75%       477.000000    8122.000000       4.000000  1.435994e+09\n",
       "max       610.000000  193609.000000       5.000000  1.537799e+09"
      ]
     },
     "execution_count": 10,
     "metadata": {},
     "output_type": "execute_result"
    }
   ],
   "source": [
    "ratings.describe()"
   ]
  },
  {
   "cell_type": "code",
   "execution_count": 11,
   "id": "47d6c3ae-cef3-4af4-b191-43c4d725c592",
   "metadata": {},
   "outputs": [
    {
     "data": {
      "text/plain": [
       "rating\n",
       "4.0    0.265957\n",
       "3.0    0.198808\n",
       "5.0    0.131015\n",
       "3.5    0.130271\n",
       "4.5    0.084801\n",
       "2.0    0.074884\n",
       "2.5    0.055040\n",
       "1.0    0.027877\n",
       "1.5    0.017762\n",
       "0.5    0.013586\n",
       "Name: proportion, dtype: float64"
      ]
     },
     "execution_count": 11,
     "metadata": {},
     "output_type": "execute_result"
    }
   ],
   "source": [
    "ratings[\"rating\"].value_counts(normalize=True) "
   ]
  },
  {
   "cell_type": "code",
   "execution_count": 12,
   "id": "3772a323-1356-44f1-b81b-f17e18c14853",
   "metadata": {},
   "outputs": [],
   "source": [
    "# ratings.hist()"
   ]
  },
  {
   "cell_type": "markdown",
   "id": "1b423753-c638-4bbc-8a7a-086d23de6357",
   "metadata": {},
   "source": [
    "## tags EDA"
   ]
  },
  {
   "cell_type": "code",
   "execution_count": 13,
   "id": "c8f186a4-e275-4904-a2ac-cbec1bd00133",
   "metadata": {},
   "outputs": [
    {
     "data": {
      "text/plain": [
       "(3683, 4)"
      ]
     },
     "execution_count": 13,
     "metadata": {},
     "output_type": "execute_result"
    }
   ],
   "source": [
    "tags.shape"
   ]
  },
  {
   "cell_type": "code",
   "execution_count": 14,
   "id": "35058603-8f60-4b7b-a931-2617dbff7c3b",
   "metadata": {},
   "outputs": [
    {
     "name": "stdout",
     "output_type": "stream",
     "text": [
      "<class 'pandas.core.frame.DataFrame'>\n",
      "RangeIndex: 3683 entries, 0 to 3682\n",
      "Data columns (total 4 columns):\n",
      " #   Column     Non-Null Count  Dtype \n",
      "---  ------     --------------  ----- \n",
      " 0   userId     3683 non-null   int64 \n",
      " 1   movieId    3683 non-null   int64 \n",
      " 2   tag        3683 non-null   object\n",
      " 3   timestamp  3683 non-null   int64 \n",
      "dtypes: int64(3), object(1)\n",
      "memory usage: 115.2+ KB\n"
     ]
    }
   ],
   "source": [
    "tags.info()"
   ]
  },
  {
   "cell_type": "code",
   "execution_count": 15,
   "id": "610b6478-3bb9-4cb5-92e2-46ccd3b42e00",
   "metadata": {},
   "outputs": [
    {
     "data": {
      "text/html": [
       "<div>\n",
       "<style scoped>\n",
       "    .dataframe tbody tr th:only-of-type {\n",
       "        vertical-align: middle;\n",
       "    }\n",
       "\n",
       "    .dataframe tbody tr th {\n",
       "        vertical-align: top;\n",
       "    }\n",
       "\n",
       "    .dataframe thead th {\n",
       "        text-align: right;\n",
       "    }\n",
       "</style>\n",
       "<table border=\"1\" class=\"dataframe\">\n",
       "  <thead>\n",
       "    <tr style=\"text-align: right;\">\n",
       "      <th></th>\n",
       "      <th>userId</th>\n",
       "      <th>movieId</th>\n",
       "      <th>tag</th>\n",
       "      <th>timestamp</th>\n",
       "    </tr>\n",
       "  </thead>\n",
       "  <tbody>\n",
       "    <tr>\n",
       "      <th>0</th>\n",
       "      <td>2</td>\n",
       "      <td>60756</td>\n",
       "      <td>funny</td>\n",
       "      <td>1445714994</td>\n",
       "    </tr>\n",
       "    <tr>\n",
       "      <th>1</th>\n",
       "      <td>2</td>\n",
       "      <td>60756</td>\n",
       "      <td>Highly quotable</td>\n",
       "      <td>1445714996</td>\n",
       "    </tr>\n",
       "  </tbody>\n",
       "</table>\n",
       "</div>"
      ],
      "text/plain": [
       "   userId  movieId              tag   timestamp\n",
       "0       2    60756            funny  1445714994\n",
       "1       2    60756  Highly quotable  1445714996"
      ]
     },
     "execution_count": 15,
     "metadata": {},
     "output_type": "execute_result"
    }
   ],
   "source": [
    "tags.head(2)"
   ]
  },
  {
   "cell_type": "code",
   "execution_count": 16,
   "id": "2b41921e-b1a3-42e1-9f54-137f55fa6b9e",
   "metadata": {},
   "outputs": [
    {
     "data": {
      "text/plain": [
       "tag\n",
       "In Netflix queue     131\n",
       "atmospheric           36\n",
       "thought-provoking     24\n",
       "superhero             24\n",
       "funny                 23\n",
       "                    ... \n",
       "small towns            1\n",
       "In Your Eyes           1\n",
       "Lloyd Dobbler          1\n",
       "weak plot              1\n",
       "Heroic Bloodshed       1\n",
       "Name: count, Length: 1589, dtype: int64"
      ]
     },
     "execution_count": 16,
     "metadata": {},
     "output_type": "execute_result"
    }
   ],
   "source": [
    "tags[\"tag\"].value_counts()"
   ]
  },
  {
   "cell_type": "markdown",
   "id": "ac50bda5-7635-4fe0-88b2-b1ebabb4cbc1",
   "metadata": {},
   "source": [
    "## links EDA"
   ]
  },
  {
   "cell_type": "code",
   "execution_count": 17,
   "id": "5b1586cf-d95c-4ab2-a5f2-d413984feba1",
   "metadata": {},
   "outputs": [
    {
     "data": {
      "text/plain": [
       "(9742, 3)"
      ]
     },
     "execution_count": 17,
     "metadata": {},
     "output_type": "execute_result"
    }
   ],
   "source": [
    "links.shape"
   ]
  },
  {
   "cell_type": "code",
   "execution_count": 18,
   "id": "3e18ab1f-c13e-4941-a9bc-e13cc7295e0d",
   "metadata": {},
   "outputs": [
    {
     "name": "stdout",
     "output_type": "stream",
     "text": [
      "<class 'pandas.core.frame.DataFrame'>\n",
      "RangeIndex: 9742 entries, 0 to 9741\n",
      "Data columns (total 3 columns):\n",
      " #   Column   Non-Null Count  Dtype  \n",
      "---  ------   --------------  -----  \n",
      " 0   movieId  9742 non-null   int64  \n",
      " 1   imdbId   9742 non-null   int64  \n",
      " 2   tmdbId   9734 non-null   float64\n",
      "dtypes: float64(1), int64(2)\n",
      "memory usage: 228.5 KB\n"
     ]
    }
   ],
   "source": [
    "links.info()"
   ]
  },
  {
   "cell_type": "code",
   "execution_count": 19,
   "id": "430fb66f-65e7-4e4b-851b-6480798f4e90",
   "metadata": {},
   "outputs": [
    {
     "data": {
      "text/html": [
       "<div>\n",
       "<style scoped>\n",
       "    .dataframe tbody tr th:only-of-type {\n",
       "        vertical-align: middle;\n",
       "    }\n",
       "\n",
       "    .dataframe tbody tr th {\n",
       "        vertical-align: top;\n",
       "    }\n",
       "\n",
       "    .dataframe thead th {\n",
       "        text-align: right;\n",
       "    }\n",
       "</style>\n",
       "<table border=\"1\" class=\"dataframe\">\n",
       "  <thead>\n",
       "    <tr style=\"text-align: right;\">\n",
       "      <th></th>\n",
       "      <th>movieId</th>\n",
       "      <th>imdbId</th>\n",
       "      <th>tmdbId</th>\n",
       "    </tr>\n",
       "  </thead>\n",
       "  <tbody>\n",
       "    <tr>\n",
       "      <th>0</th>\n",
       "      <td>1</td>\n",
       "      <td>114709</td>\n",
       "      <td>862.0</td>\n",
       "    </tr>\n",
       "    <tr>\n",
       "      <th>1</th>\n",
       "      <td>2</td>\n",
       "      <td>113497</td>\n",
       "      <td>8844.0</td>\n",
       "    </tr>\n",
       "  </tbody>\n",
       "</table>\n",
       "</div>"
      ],
      "text/plain": [
       "   movieId  imdbId  tmdbId\n",
       "0        1  114709   862.0\n",
       "1        2  113497  8844.0"
      ]
     },
     "execution_count": 19,
     "metadata": {},
     "output_type": "execute_result"
    }
   ],
   "source": [
    "links.head(2)"
   ]
  },
  {
   "cell_type": "markdown",
   "id": "91546a46-ef71-40cf-b75d-65af3e4423b6",
   "metadata": {},
   "source": [
    "# Data Prep"
   ]
  },
  {
   "cell_type": "code",
   "execution_count": 20,
   "id": "bd7168ad-b264-431b-9949-b1eabfbbde15",
   "metadata": {},
   "outputs": [],
   "source": [
    "data = ratings"
   ]
  },
  {
   "cell_type": "code",
   "execution_count": 21,
   "id": "7e5f4934-3580-40cb-9789-898edcb16b7f",
   "metadata": {},
   "outputs": [
    {
     "data": {
      "text/html": [
       "<div>\n",
       "<style scoped>\n",
       "    .dataframe tbody tr th:only-of-type {\n",
       "        vertical-align: middle;\n",
       "    }\n",
       "\n",
       "    .dataframe tbody tr th {\n",
       "        vertical-align: top;\n",
       "    }\n",
       "\n",
       "    .dataframe thead th {\n",
       "        text-align: right;\n",
       "    }\n",
       "</style>\n",
       "<table border=\"1\" class=\"dataframe\">\n",
       "  <thead>\n",
       "    <tr style=\"text-align: right;\">\n",
       "      <th></th>\n",
       "      <th>userId</th>\n",
       "      <th>movieId</th>\n",
       "      <th>rating</th>\n",
       "      <th>timestamp</th>\n",
       "    </tr>\n",
       "  </thead>\n",
       "  <tbody>\n",
       "  </tbody>\n",
       "</table>\n",
       "</div>"
      ],
      "text/plain": [
       "Empty DataFrame\n",
       "Columns: [userId, movieId, rating, timestamp]\n",
       "Index: []"
      ]
     },
     "execution_count": 21,
     "metadata": {},
     "output_type": "execute_result"
    }
   ],
   "source": [
    "# duplicates\n",
    "duplicates = data.duplicated()\n",
    "duplicated_rows = data[duplicates]\n",
    "duplicated_rows\n",
    "# df.drop_duplicates(inplace=True)"
   ]
  },
  {
   "cell_type": "code",
   "execution_count": 22,
   "id": "07023e64-3d57-48ae-affe-687e2de6c7d4",
   "metadata": {},
   "outputs": [
    {
     "data": {
      "text/plain": [
       "userId       0\n",
       "movieId      0\n",
       "rating       0\n",
       "timestamp    0\n",
       "dtype: int64"
      ]
     },
     "execution_count": 22,
     "metadata": {},
     "output_type": "execute_result"
    }
   ],
   "source": [
    "# null values\n",
    "data.isna().sum()\n",
    "data.isnull().sum()"
   ]
  },
  {
   "cell_type": "markdown",
   "id": "0aee4a82-9fa9-42e6-8bb9-ebc24317363d",
   "metadata": {},
   "source": [
    "# Modelling"
   ]
  },
  {
   "cell_type": "code",
   "execution_count": 23,
   "id": "c19d7cf2-9f04-43e5-aa0a-b6b368964917",
   "metadata": {},
   "outputs": [],
   "source": [
    "# create a function that takes an input ‘n’ (n is an integer, how many movies we wish to display) \n",
    "# and outputs the top n movies so that you can populate the first row of WBSFLIX’s site. \n",
    "# Be careful not to recommend any 5-star movies with only one rating.\n",
    "\n",
    "# Instead of using the average rating of the movies, get the number of ratings: \n",
    "# a movie that has been rated many times is “popular” —it has been watched/rated by a lot of people, \n",
    "# regardless of whether they liked it or not.\n",
    "\n",
    "# Use a hybrid method between the average rating (the “quality”) and number of ratings (the “popularity”).\n",
    "# There are many ways to implement this hybrid method. \n",
    "# For example: Setting a threshold for “popularity” (e.g. movies that have been rated at least 10 times), \n",
    "# then sorting movies just by “quality”. Creating a new metric that mixes “popularity” and “quality”."
   ]
  },
  {
   "cell_type": "markdown",
   "id": "8f363583-fbe3-48eb-b604-a2b7320c1ac7",
   "metadata": {},
   "source": [
    "## Popularity Ranking (Not Personalized)"
   ]
  },
  {
   "cell_type": "code",
   "execution_count": 24,
   "id": "39625ad0-ea35-4a0c-99e5-be98935b1eae",
   "metadata": {},
   "outputs": [
    {
     "data": {
      "text/html": [
       "<div>\n",
       "<style scoped>\n",
       "    .dataframe tbody tr th:only-of-type {\n",
       "        vertical-align: middle;\n",
       "    }\n",
       "\n",
       "    .dataframe tbody tr th {\n",
       "        vertical-align: top;\n",
       "    }\n",
       "\n",
       "    .dataframe thead th {\n",
       "        text-align: right;\n",
       "    }\n",
       "</style>\n",
       "<table border=\"1\" class=\"dataframe\">\n",
       "  <thead>\n",
       "    <tr style=\"text-align: right;\">\n",
       "      <th></th>\n",
       "      <th>userId</th>\n",
       "      <th>movieId</th>\n",
       "      <th>rating</th>\n",
       "      <th>timestamp</th>\n",
       "    </tr>\n",
       "  </thead>\n",
       "  <tbody>\n",
       "    <tr>\n",
       "      <th>0</th>\n",
       "      <td>1</td>\n",
       "      <td>1</td>\n",
       "      <td>4.0</td>\n",
       "      <td>964982703</td>\n",
       "    </tr>\n",
       "    <tr>\n",
       "      <th>1</th>\n",
       "      <td>1</td>\n",
       "      <td>3</td>\n",
       "      <td>4.0</td>\n",
       "      <td>964981247</td>\n",
       "    </tr>\n",
       "  </tbody>\n",
       "</table>\n",
       "</div>"
      ],
      "text/plain": [
       "   userId  movieId  rating  timestamp\n",
       "0       1        1     4.0  964982703\n",
       "1       1        3     4.0  964981247"
      ]
     },
     "execution_count": 24,
     "metadata": {},
     "output_type": "execute_result"
    }
   ],
   "source": [
    "ratings.head(2)"
   ]
  },
  {
   "cell_type": "code",
   "execution_count": 25,
   "id": "2e12fe1a-ab6f-42b8-9ab3-99aba8aec41d",
   "metadata": {},
   "outputs": [
    {
     "name": "stdin",
     "output_type": "stream",
     "text": [
      "How may movies do you wish in your recommendation list? 4\n"
     ]
    }
   ],
   "source": [
    "# input\n",
    "num = int(input(\"How may movies do you wish in your recommendation list?\") or 10)"
   ]
  },
  {
   "cell_type": "markdown",
   "id": "f3fa3576-ca64-4459-a430-91e1df086dbf",
   "metadata": {},
   "source": [
    "### popular by rating and number of rating"
   ]
  },
  {
   "cell_type": "code",
   "execution_count": 26,
   "id": "6cc2c7c3-b329-4576-a2ed-ee455e162a45",
   "metadata": {},
   "outputs": [
    {
     "data": {
      "text/html": [
       "<div>\n",
       "<style scoped>\n",
       "    .dataframe tbody tr th:only-of-type {\n",
       "        vertical-align: middle;\n",
       "    }\n",
       "\n",
       "    .dataframe tbody tr th {\n",
       "        vertical-align: top;\n",
       "    }\n",
       "\n",
       "    .dataframe thead th {\n",
       "        text-align: right;\n",
       "    }\n",
       "</style>\n",
       "<table border=\"1\" class=\"dataframe\">\n",
       "  <thead>\n",
       "    <tr style=\"text-align: right;\">\n",
       "      <th></th>\n",
       "      <th>movieId</th>\n",
       "      <th>mean</th>\n",
       "      <th>count</th>\n",
       "      <th>title</th>\n",
       "      <th>genres</th>\n",
       "    </tr>\n",
       "  </thead>\n",
       "  <tbody>\n",
       "    <tr>\n",
       "      <th>174</th>\n",
       "      <td>1041</td>\n",
       "      <td>4.590909</td>\n",
       "      <td>11</td>\n",
       "      <td>Secrets &amp; Lies (1996)</td>\n",
       "      <td>Drama</td>\n",
       "    </tr>\n",
       "    <tr>\n",
       "      <th>548</th>\n",
       "      <td>3451</td>\n",
       "      <td>4.545455</td>\n",
       "      <td>11</td>\n",
       "      <td>Guess Who's Coming to Dinner (1967)</td>\n",
       "      <td>Drama</td>\n",
       "    </tr>\n",
       "    <tr>\n",
       "      <th>199</th>\n",
       "      <td>1178</td>\n",
       "      <td>4.541667</td>\n",
       "      <td>12</td>\n",
       "      <td>Paths of Glory (1957)</td>\n",
       "      <td>Drama|War</td>\n",
       "    </tr>\n",
       "    <tr>\n",
       "      <th>190</th>\n",
       "      <td>1104</td>\n",
       "      <td>4.475000</td>\n",
       "      <td>20</td>\n",
       "      <td>Streetcar Named Desire, A (1951)</td>\n",
       "      <td>Drama</td>\n",
       "    </tr>\n",
       "  </tbody>\n",
       "</table>\n",
       "</div>"
      ],
      "text/plain": [
       "     movieId      mean  count                                title     genres\n",
       "174     1041  4.590909     11                Secrets & Lies (1996)      Drama\n",
       "548     3451  4.545455     11  Guess Who's Coming to Dinner (1967)      Drama\n",
       "199     1178  4.541667     12                Paths of Glory (1957)  Drama|War\n",
       "190     1104  4.475000     20     Streetcar Named Desire, A (1951)      Drama"
      ]
     },
     "execution_count": 26,
     "metadata": {},
     "output_type": "execute_result"
    }
   ],
   "source": [
    "# means and counts per movie, then filter threshold\n",
    "ratings_grp = ratings.groupby('movieId')['rating'].agg(['mean', 'count']).reset_index()\n",
    "thresholds = ratings_grp.loc[(ratings_grp['mean'] >= 3.5) & (ratings_grp['count'] > 10)]\n",
    "top_movies = thresholds.merge(movies, on=\"movieId\", how=\"left\").sort_values(by=[\"mean\", \"count\"], ascending=[False, False]).head(num)\n",
    "top_movies"
   ]
  },
  {
   "cell_type": "code",
   "execution_count": 27,
   "id": "b8465a7c-e838-4fd8-9a44-b86feb09558c",
   "metadata": {},
   "outputs": [
    {
     "data": {
      "text/html": [
       "<div>\n",
       "<style scoped>\n",
       "    .dataframe tbody tr th:only-of-type {\n",
       "        vertical-align: middle;\n",
       "    }\n",
       "\n",
       "    .dataframe tbody tr th {\n",
       "        vertical-align: top;\n",
       "    }\n",
       "\n",
       "    .dataframe thead th {\n",
       "        text-align: right;\n",
       "    }\n",
       "</style>\n",
       "<table border=\"1\" class=\"dataframe\">\n",
       "  <thead>\n",
       "    <tr style=\"text-align: right;\">\n",
       "      <th></th>\n",
       "      <th>movieId</th>\n",
       "      <th>mean</th>\n",
       "      <th>count</th>\n",
       "      <th>title</th>\n",
       "      <th>genres</th>\n",
       "      <th>pop_score</th>\n",
       "    </tr>\n",
       "  </thead>\n",
       "  <tbody>\n",
       "    <tr>\n",
       "      <th>190</th>\n",
       "      <td>1104</td>\n",
       "      <td>4.475000</td>\n",
       "      <td>20</td>\n",
       "      <td>Streetcar Named Desire, A (1951)</td>\n",
       "      <td>Drama</td>\n",
       "      <td>1.657407</td>\n",
       "    </tr>\n",
       "    <tr>\n",
       "      <th>199</th>\n",
       "      <td>1178</td>\n",
       "      <td>4.541667</td>\n",
       "      <td>12</td>\n",
       "      <td>Paths of Glory (1957)</td>\n",
       "      <td>Drama|War</td>\n",
       "      <td>1.009259</td>\n",
       "    </tr>\n",
       "    <tr>\n",
       "      <th>174</th>\n",
       "      <td>1041</td>\n",
       "      <td>4.590909</td>\n",
       "      <td>11</td>\n",
       "      <td>Secrets &amp; Lies (1996)</td>\n",
       "      <td>Drama</td>\n",
       "      <td>0.935185</td>\n",
       "    </tr>\n",
       "    <tr>\n",
       "      <th>548</th>\n",
       "      <td>3451</td>\n",
       "      <td>4.545455</td>\n",
       "      <td>11</td>\n",
       "      <td>Guess Who's Coming to Dinner (1967)</td>\n",
       "      <td>Drama</td>\n",
       "      <td>0.925926</td>\n",
       "    </tr>\n",
       "  </tbody>\n",
       "</table>\n",
       "</div>"
      ],
      "text/plain": [
       "     movieId      mean  count                                title     genres  \\\n",
       "190     1104  4.475000     20     Streetcar Named Desire, A (1951)      Drama   \n",
       "199     1178  4.541667     12                Paths of Glory (1957)  Drama|War   \n",
       "174     1041  4.590909     11                Secrets & Lies (1996)      Drama   \n",
       "548     3451  4.545455     11  Guess Who's Coming to Dinner (1967)      Drama   \n",
       "\n",
       "     pop_score  \n",
       "190   1.657407  \n",
       "199   1.009259  \n",
       "174   0.935185  \n",
       "548   0.925926  "
      ]
     },
     "execution_count": 27,
     "metadata": {},
     "output_type": "execute_result"
    }
   ],
   "source": [
    "# formula for popularity\n",
    "total_count = top_movies[\"count\"].sum()\n",
    "top_movies[\"pop_score\"] = top_movies[\"mean\"] * (top_movies[\"count\"]) / total_count\n",
    "top_list = top_movies.sort_values(by=\"pop_score\", ascending=False).head(num)\n",
    "top_list"
   ]
  },
  {
   "cell_type": "markdown",
   "id": "e0b19054-1b8a-45a7-b647-b0f5539a10e3",
   "metadata": {},
   "source": [
    "### \"hot\" at the moment"
   ]
  },
  {
   "cell_type": "code",
   "execution_count": 28,
   "id": "f02d6c06-e604-4e19-a562-c0800d539cd0",
   "metadata": {},
   "outputs": [
    {
     "data": {
      "text/html": [
       "<div>\n",
       "<style scoped>\n",
       "    .dataframe tbody tr th:only-of-type {\n",
       "        vertical-align: middle;\n",
       "    }\n",
       "\n",
       "    .dataframe tbody tr th {\n",
       "        vertical-align: top;\n",
       "    }\n",
       "\n",
       "    .dataframe thead th {\n",
       "        text-align: right;\n",
       "    }\n",
       "</style>\n",
       "<table border=\"1\" class=\"dataframe\">\n",
       "  <thead>\n",
       "    <tr style=\"text-align: right;\">\n",
       "      <th></th>\n",
       "      <th>userId</th>\n",
       "      <th>movieId</th>\n",
       "      <th>rating</th>\n",
       "      <th>timestamp</th>\n",
       "    </tr>\n",
       "  </thead>\n",
       "  <tbody>\n",
       "    <tr>\n",
       "      <th>0</th>\n",
       "      <td>1</td>\n",
       "      <td>1</td>\n",
       "      <td>4.0</td>\n",
       "      <td>964982703</td>\n",
       "    </tr>\n",
       "    <tr>\n",
       "      <th>1</th>\n",
       "      <td>1</td>\n",
       "      <td>3</td>\n",
       "      <td>4.0</td>\n",
       "      <td>964981247</td>\n",
       "    </tr>\n",
       "  </tbody>\n",
       "</table>\n",
       "</div>"
      ],
      "text/plain": [
       "   userId  movieId  rating  timestamp\n",
       "0       1        1     4.0  964982703\n",
       "1       1        3     4.0  964981247"
      ]
     },
     "execution_count": 28,
     "metadata": {},
     "output_type": "execute_result"
    }
   ],
   "source": [
    "# highest mean ranking in the last 30/60/90 days\n",
    "ratings.head(2)"
   ]
  },
  {
   "cell_type": "code",
   "execution_count": 29,
   "id": "d73e50d6-922c-49f7-9ccd-3e7707326593",
   "metadata": {},
   "outputs": [
    {
     "data": {
      "text/html": [
       "<div>\n",
       "<style scoped>\n",
       "    .dataframe tbody tr th:only-of-type {\n",
       "        vertical-align: middle;\n",
       "    }\n",
       "\n",
       "    .dataframe tbody tr th {\n",
       "        vertical-align: top;\n",
       "    }\n",
       "\n",
       "    .dataframe thead th {\n",
       "        text-align: right;\n",
       "    }\n",
       "</style>\n",
       "<table border=\"1\" class=\"dataframe\">\n",
       "  <thead>\n",
       "    <tr style=\"text-align: right;\">\n",
       "      <th></th>\n",
       "      <th>movieId</th>\n",
       "      <th>mean</th>\n",
       "      <th>title</th>\n",
       "      <th>genres</th>\n",
       "    </tr>\n",
       "  </thead>\n",
       "  <tbody>\n",
       "    <tr>\n",
       "      <th>75</th>\n",
       "      <td>122882</td>\n",
       "      <td>5.0</td>\n",
       "      <td>Mad Max: Fury Road (2015)</td>\n",
       "      <td>Action|Adventure|Sci-Fi|Thriller</td>\n",
       "    </tr>\n",
       "    <tr>\n",
       "      <th>43</th>\n",
       "      <td>46578</td>\n",
       "      <td>5.0</td>\n",
       "      <td>Little Miss Sunshine (2006)</td>\n",
       "      <td>Adventure|Comedy|Drama</td>\n",
       "    </tr>\n",
       "    <tr>\n",
       "      <th>61</th>\n",
       "      <td>94864</td>\n",
       "      <td>5.0</td>\n",
       "      <td>Prometheus (2012)</td>\n",
       "      <td>Action|Horror|Sci-Fi|IMAX</td>\n",
       "    </tr>\n",
       "    <tr>\n",
       "      <th>31</th>\n",
       "      <td>6016</td>\n",
       "      <td>5.0</td>\n",
       "      <td>City of God (Cidade de Deus) (2002)</td>\n",
       "      <td>Action|Adventure|Crime|Drama|Thriller</td>\n",
       "    </tr>\n",
       "    <tr>\n",
       "      <th>92</th>\n",
       "      <td>167746</td>\n",
       "      <td>5.0</td>\n",
       "      <td>The Lego Batman Movie (2017)</td>\n",
       "      <td>Action|Animation|Comedy</td>\n",
       "    </tr>\n",
       "    <tr>\n",
       "      <th>...</th>\n",
       "      <td>...</td>\n",
       "      <td>...</td>\n",
       "      <td>...</td>\n",
       "      <td>...</td>\n",
       "    </tr>\n",
       "    <tr>\n",
       "      <th>38</th>\n",
       "      <td>26713</td>\n",
       "      <td>4.5</td>\n",
       "      <td>Days of Being Wild (A Fei jingjyuhn) (1990)</td>\n",
       "      <td>Drama|Romance</td>\n",
       "    </tr>\n",
       "    <tr>\n",
       "      <th>35</th>\n",
       "      <td>8784</td>\n",
       "      <td>4.5</td>\n",
       "      <td>Garden State (2004)</td>\n",
       "      <td>Comedy|Drama|Romance</td>\n",
       "    </tr>\n",
       "    <tr>\n",
       "      <th>34</th>\n",
       "      <td>7615</td>\n",
       "      <td>4.5</td>\n",
       "      <td>Desert Hearts (1985)</td>\n",
       "      <td>Drama</td>\n",
       "    </tr>\n",
       "    <tr>\n",
       "      <th>32</th>\n",
       "      <td>6350</td>\n",
       "      <td>4.5</td>\n",
       "      <td>Laputa: Castle in the Sky (Tenkû no shiro Rapy...</td>\n",
       "      <td>Action|Adventure|Animation|Children|Fantasy|Sc...</td>\n",
       "    </tr>\n",
       "    <tr>\n",
       "      <th>111</th>\n",
       "      <td>191005</td>\n",
       "      <td>4.5</td>\n",
       "      <td>Gintama (2017)</td>\n",
       "      <td>Action|Adventure|Comedy|Sci-Fi</td>\n",
       "    </tr>\n",
       "  </tbody>\n",
       "</table>\n",
       "<p>112 rows × 4 columns</p>\n",
       "</div>"
      ],
      "text/plain": [
       "     movieId  mean                                              title  \\\n",
       "75    122882   5.0                          Mad Max: Fury Road (2015)   \n",
       "43     46578   5.0                        Little Miss Sunshine (2006)   \n",
       "61     94864   5.0                                  Prometheus (2012)   \n",
       "31      6016   5.0                City of God (Cidade de Deus) (2002)   \n",
       "92    167746   5.0                       The Lego Batman Movie (2017)   \n",
       "..       ...   ...                                                ...   \n",
       "38     26713   4.5        Days of Being Wild (A Fei jingjyuhn) (1990)   \n",
       "35      8784   4.5                                Garden State (2004)   \n",
       "34      7615   4.5                               Desert Hearts (1985)   \n",
       "32      6350   4.5  Laputa: Castle in the Sky (Tenkû no shiro Rapy...   \n",
       "111   191005   4.5                                     Gintama (2017)   \n",
       "\n",
       "                                                genres  \n",
       "75                    Action|Adventure|Sci-Fi|Thriller  \n",
       "43                              Adventure|Comedy|Drama  \n",
       "61                           Action|Horror|Sci-Fi|IMAX  \n",
       "31               Action|Adventure|Crime|Drama|Thriller  \n",
       "92                             Action|Animation|Comedy  \n",
       "..                                                 ...  \n",
       "38                                       Drama|Romance  \n",
       "35                                Comedy|Drama|Romance  \n",
       "34                                               Drama  \n",
       "32   Action|Adventure|Animation|Children|Fantasy|Sc...  \n",
       "111                     Action|Adventure|Comedy|Sci-Fi  \n",
       "\n",
       "[112 rows x 4 columns]"
      ]
     },
     "execution_count": 29,
     "metadata": {},
     "output_type": "execute_result"
    }
   ],
   "source": [
    "# input\n",
    "p = 30 # int(input(f\"How many days back would you like the top rated films?\") or 90)\n",
    "\n",
    "# format timestamp\n",
    "ratings[\"timestamp\"] = pd.to_datetime(ratings[\"timestamp\"], unit='s')\n",
    "periode_df = ratings.loc[ratings['timestamp'] >= ((ratings['timestamp'].max()) - (pd.Timedelta(days=p)))]\n",
    "\n",
    "# threshold = 4.5 and 5.0 stars\n",
    "ratings_grp = periode_df.groupby('movieId')['rating'].agg(['mean']).reset_index()\n",
    "thresholds = ratings_grp.loc[(ratings_grp['mean'] >= 4.5)]\n",
    "top_movies = thresholds.merge(movies, on=\"movieId\", how=\"left\").sort_values(by=\"mean\", ascending=False)\n",
    "top_movies"
   ]
  },
  {
   "cell_type": "markdown",
   "id": "7ab1244c-a885-4d24-aeb5-3bf122971e15",
   "metadata": {},
   "source": [
    "## Item-Based Collaborative Filtering (Semi Personalised)"
   ]
  },
  {
   "cell_type": "code",
   "execution_count": 30,
   "id": "33d72b43-6730-4c98-9987-7c773b5029ac",
   "metadata": {},
   "outputs": [],
   "source": [
    "# !pip install scikit-learn"
   ]
  },
  {
   "cell_type": "code",
   "execution_count": 31,
   "id": "7ce89d19-77a5-4e6e-bb5d-656d23a0e3c7",
   "metadata": {},
   "outputs": [],
   "source": [
    "def movie_recommender_(favorite, number_of_recommendations):\n",
    "\n",
    "    import pandas as pd\n",
    "    from sklearn.metrics.pairwise import cosine_similarity\n",
    "\n",
    "    # user items matrix & items similarity matrix\n",
    "    user_items_matrix = pd.pivot_table(data=ratings, values='rating', index='userId', columns='movieId', fill_value=0)\n",
    "    items_similarity_matrix = pd.DataFrame(cosine_similarity(user_items_matrix.T), columns=user_items_matrix.columns, index=user_items_matrix.columns)\n",
    "\n",
    "    # similarity_score column\n",
    "    similarity_df = pd.DataFrame(items_similarity_matrix[favorite])                     # .reset_index() ?\n",
    "    similarity_df = similarity_df.rename(columns={favorite: 'similarity_score'})        # rename cosineses column\n",
    "    similarity_df = similarity_df[similarity_df.index != favorite]                       # remove row with favorite book\n",
    "    similarity_df = similarity_df.sort_values(by='similarity_score', ascending=False)   # sort by 'cosineses' values\n",
    "\n",
    "    # number_ratings column\n",
    "    nr_of_users_rated_both_movies = [sum((user_items_matrix[favorite] > 0) & (user_items_matrix[movieId] > 0)) for movieId in similarity_df.index]\n",
    "    similarity_df['number_ratings'] = nr_of_users_rated_both_movies              # Add the number of users to df\n",
    "    similarity_df = similarity_df[similarity_df[\"number_ratings\"] > 10]          # only movies that have been rated by less than 10 users\n",
    "\n",
    "    # output table with further movie informations\n",
    "    similarity_df = (similarity_df.head(number_of_recommendations).reset_index()\n",
    "                        .merge(ratings.drop_duplicates(subset='movieId'), on='movieId', how='left'))\n",
    "    similarity_df = similarity_df.drop([\"userId\", \"rating\", \"timestamp\"], axis=1).merge(movies, on='movieId', how='left')\n",
    "\n",
    "    new_col_order = ['movieId', 'title', 'similarity_score', 'number_ratings', 'genres']\n",
    "    similarity_df = similarity_df.reindex(columns=new_col_order)\n",
    "\n",
    "    recommended_movies = similarity_df\n",
    "    return recommended_movies"
   ]
  },
  {
   "cell_type": "code",
   "execution_count": 32,
   "id": "4c8cdf01-6e5c-4b59-8f2b-8ef745d9c44e",
   "metadata": {},
   "outputs": [
    {
     "name": "stdin",
     "output_type": "stream",
     "text": [
      "How many movies would you like to be recommended? 4\n",
      "Id of a movie, the client particularly enjoyed: 3\n"
     ]
    },
    {
     "data": {
      "text/html": [
       "<div>\n",
       "<style scoped>\n",
       "    .dataframe tbody tr th:only-of-type {\n",
       "        vertical-align: middle;\n",
       "    }\n",
       "\n",
       "    .dataframe tbody tr th {\n",
       "        vertical-align: top;\n",
       "    }\n",
       "\n",
       "    .dataframe thead th {\n",
       "        text-align: right;\n",
       "    }\n",
       "</style>\n",
       "<table border=\"1\" class=\"dataframe\">\n",
       "  <thead>\n",
       "    <tr style=\"text-align: right;\">\n",
       "      <th></th>\n",
       "      <th>movieId</th>\n",
       "      <th>title</th>\n",
       "      <th>similarity_score</th>\n",
       "      <th>number_ratings</th>\n",
       "      <th>genres</th>\n",
       "    </tr>\n",
       "  </thead>\n",
       "  <tbody>\n",
       "    <tr>\n",
       "      <th>0</th>\n",
       "      <td>3450</td>\n",
       "      <td>Grumpy Old Men (1993)</td>\n",
       "      <td>0.447987</td>\n",
       "      <td>18</td>\n",
       "      <td>Comedy</td>\n",
       "    </tr>\n",
       "    <tr>\n",
       "      <th>1</th>\n",
       "      <td>762</td>\n",
       "      <td>Striptease (1996)</td>\n",
       "      <td>0.446784</td>\n",
       "      <td>20</td>\n",
       "      <td>Comedy|Crime</td>\n",
       "    </tr>\n",
       "    <tr>\n",
       "      <th>2</th>\n",
       "      <td>788</td>\n",
       "      <td>Nutty Professor, The (1996)</td>\n",
       "      <td>0.445082</td>\n",
       "      <td>28</td>\n",
       "      <td>Comedy|Fantasy|Romance|Sci-Fi</td>\n",
       "    </tr>\n",
       "    <tr>\n",
       "      <th>3</th>\n",
       "      <td>736</td>\n",
       "      <td>Twister (1996)</td>\n",
       "      <td>0.436247</td>\n",
       "      <td>37</td>\n",
       "      <td>Action|Adventure|Romance|Thriller</td>\n",
       "    </tr>\n",
       "  </tbody>\n",
       "</table>\n",
       "</div>"
      ],
      "text/plain": [
       "   movieId                        title  similarity_score  number_ratings  \\\n",
       "0     3450        Grumpy Old Men (1993)          0.447987              18   \n",
       "1      762            Striptease (1996)          0.446784              20   \n",
       "2      788  Nutty Professor, The (1996)          0.445082              28   \n",
       "3      736               Twister (1996)          0.436247              37   \n",
       "\n",
       "                              genres  \n",
       "0                             Comedy  \n",
       "1                       Comedy|Crime  \n",
       "2      Comedy|Fantasy|Romance|Sci-Fi  \n",
       "3  Action|Adventure|Romance|Thriller  "
      ]
     },
     "execution_count": 32,
     "metadata": {},
     "output_type": "execute_result"
    }
   ],
   "source": [
    "# --- helm box ---\n",
    "\n",
    "# inputs\n",
    "number_of_recommendations = int(input(\"How many movies would you like to be recommended?\"))       # n\n",
    "favorite = int(input(\"Id of a movie, the client particularly enjoyed:\"))                          # movieId\n",
    "\n",
    "# call function\n",
    "movie_recommender_(favorite, number_of_recommendations)"
   ]
  },
  {
   "cell_type": "code",
   "execution_count": 33,
   "id": "b7f69e27-27ae-48f4-a5f0-a86ff472867f",
   "metadata": {},
   "outputs": [],
   "source": [
    "movieId_list = movies[\"movieId\"].tolist()\n",
    "# movieId_list"
   ]
  },
  {
   "cell_type": "markdown",
   "id": "05328b17-3e8f-4976-8600-2779ce324602",
   "metadata": {},
   "source": [
    "**??? make a pipeline of functions**"
   ]
  },
  {
   "cell_type": "code",
   "execution_count": 34,
   "id": "9832e4a1-4270-46b2-8219-ed164f082860",
   "metadata": {},
   "outputs": [],
   "source": [
    "# def inputs():\n",
    "#     number_of_recommendations = int(input(\"How many movies would you like to be recommended?\"))       # n\n",
    "#     favorite = int(input(\"Id of a movie, the client particularly enjoyed:\"))                          # movieId\n",
    "#     return number_of_recommendations, favorite"
   ]
  },
  {
   "cell_type": "code",
   "execution_count": 35,
   "id": "7126cf7b-e7d7-41c3-a06f-749061e39e74",
   "metadata": {},
   "outputs": [],
   "source": [
    "# --- helm box ---\n",
    "# recommendations = ratings.pipe(input).pipe(movie_recommender_(favorite, number_of_recommendations))"
   ]
  },
  {
   "cell_type": "markdown",
   "id": "68e958a3-0b18-4cc0-a986-b477a3a7816e",
   "metadata": {},
   "source": [
    "## User-Based Collaborative Recommender System (Fully Personalized)"
   ]
  },
  {
   "cell_type": "code",
   "execution_count": 36,
   "id": "f5353f83-45e4-4e42-b198-1f8136fa1aa4",
   "metadata": {},
   "outputs": [],
   "source": [
    "# %%capture\n",
    "# pip install scikit-surprise"
   ]
  },
  {
   "cell_type": "code",
   "execution_count": 37,
   "id": "829cbae3-bb21-4962-99b5-e39a82c9e6f5",
   "metadata": {},
   "outputs": [],
   "source": [
    "from surprise import Reader, Dataset, KNNBasic, accuracy\n",
    "from surprise.prediction_algorithms import CoClustering, SVD, SlopeOne\n",
    "from surprise.model_selection import train_test_split"
   ]
  },
  {
   "cell_type": "markdown",
   "id": "2f171919-03d5-49c3-9afe-babe07b6a7b2",
   "metadata": {
    "toc-hr-collapsed": true
   },
   "source": [
    "### manually step by step"
   ]
  },
  {
   "cell_type": "markdown",
   "id": "dc2c148f-4932-491a-ad35-d0280f205f3d",
   "metadata": {},
   "source": [
    "#### Data Prep"
   ]
  },
  {
   "cell_type": "code",
   "execution_count": 38,
   "id": "882f93b9-038b-4879-92dc-e032448af3cf",
   "metadata": {},
   "outputs": [],
   "source": [
    "seed = 888\n",
    "split = 0.2\n",
    "# --------------- INPUTs\n",
    "\n",
    "# order of data for surprise: user > item > rating !!!\n",
    "df = ratings[[\"userId\", \"movieId\", \"rating\"]]\n",
    "\n",
    "# create surprise dataset\n",
    "reader = Reader(rating_scale=(0.5, 5))\n",
    "sup_df = Dataset.load_from_df(df, reader)\n",
    "\n",
    "# split train and test\n",
    "train, test = train_test_split(sup_df, test_size=split, random_state=seed)"
   ]
  },
  {
   "cell_type": "markdown",
   "id": "89a2afc0-fe03-4f0a-81ee-64b69aa4d1c2",
   "metadata": {},
   "source": [
    "#### Modelling"
   ]
  },
  {
   "cell_type": "code",
   "execution_count": 39,
   "id": "5c692210-afe1-44e2-ac93-ea25e2c56145",
   "metadata": {},
   "outputs": [
    {
     "name": "stdout",
     "output_type": "stream",
     "text": [
      "Computing the cosine similarity matrix...\n",
      "Done computing similarity matrix.\n"
     ]
    }
   ],
   "source": [
    "# knn\n",
    "sim_options = {'name': 'cosine', 'user_based': True}\n",
    "knn = KNNBasic(sim_options=sim_options)\n",
    "knn.fit(train)\n",
    "pred = knn.test(test)"
   ]
  },
  {
   "cell_type": "markdown",
   "id": "559d26d5-9cb7-44b7-b8a2-a4c799df40b5",
   "metadata": {},
   "source": [
    "#### Exploring Preditions"
   ]
  },
  {
   "cell_type": "markdown",
   "id": "081542f5-a1a1-41d0-b01f-74836da1ff0a",
   "metadata": {},
   "source": [
    "gives list of named tuples:\n",
    "- uid: Represents the raw user id\n",
    "- iid: Represents the raw item id\n",
    "- **r_ui**: Denotes the true rating provided by the user\n",
    "- **est**: Represents the estimated rating calculated by the model\n",
    "- details: additional information and space to include any relevant details "
   ]
  },
  {
   "cell_type": "code",
   "execution_count": 40,
   "id": "74732358-7d29-4de1-9310-ec6bad71b5cc",
   "metadata": {},
   "outputs": [
    {
     "data": {
      "text/html": [
       "<div>\n",
       "<style scoped>\n",
       "    .dataframe tbody tr th:only-of-type {\n",
       "        vertical-align: middle;\n",
       "    }\n",
       "\n",
       "    .dataframe tbody tr th {\n",
       "        vertical-align: top;\n",
       "    }\n",
       "\n",
       "    .dataframe thead th {\n",
       "        text-align: right;\n",
       "    }\n",
       "</style>\n",
       "<table border=\"1\" class=\"dataframe\">\n",
       "  <thead>\n",
       "    <tr style=\"text-align: right;\">\n",
       "      <th></th>\n",
       "      <th>raw_user_id</th>\n",
       "      <th>raw_item_id</th>\n",
       "      <th>actual_user_rating</th>\n",
       "      <th>estimated_user_rating</th>\n",
       "      <th>details</th>\n",
       "    </tr>\n",
       "  </thead>\n",
       "  <tbody>\n",
       "    <tr>\n",
       "      <th>0</th>\n",
       "      <td>600</td>\n",
       "      <td>17</td>\n",
       "      <td>3.5</td>\n",
       "      <td>3.960263</td>\n",
       "      <td>{'actual_k': 40, 'was_impossible': False}</td>\n",
       "    </tr>\n",
       "    <tr>\n",
       "      <th>1</th>\n",
       "      <td>199</td>\n",
       "      <td>1387</td>\n",
       "      <td>5.0</td>\n",
       "      <td>4.050647</td>\n",
       "      <td>{'actual_k': 40, 'was_impossible': False}</td>\n",
       "    </tr>\n",
       "    <tr>\n",
       "      <th>2</th>\n",
       "      <td>345</td>\n",
       "      <td>1203</td>\n",
       "      <td>5.0</td>\n",
       "      <td>4.075934</td>\n",
       "      <td>{'actual_k': 32, 'was_impossible': False}</td>\n",
       "    </tr>\n",
       "    <tr>\n",
       "      <th>3</th>\n",
       "      <td>426</td>\n",
       "      <td>4344</td>\n",
       "      <td>0.5</td>\n",
       "      <td>3.314698</td>\n",
       "      <td>{'actual_k': 29, 'was_impossible': False}</td>\n",
       "    </tr>\n",
       "    <tr>\n",
       "      <th>4</th>\n",
       "      <td>474</td>\n",
       "      <td>3816</td>\n",
       "      <td>4.0</td>\n",
       "      <td>3.503174</td>\n",
       "      <td>{'was_impossible': True, 'reason': 'User and/o...</td>\n",
       "    </tr>\n",
       "  </tbody>\n",
       "</table>\n",
       "</div>"
      ],
      "text/plain": [
       "   raw_user_id  raw_item_id  actual_user_rating  estimated_user_rating  \\\n",
       "0          600           17                 3.5               3.960263   \n",
       "1          199         1387                 5.0               4.050647   \n",
       "2          345         1203                 5.0               4.075934   \n",
       "3          426         4344                 0.5               3.314698   \n",
       "4          474         3816                 4.0               3.503174   \n",
       "\n",
       "                                             details  \n",
       "0          {'actual_k': 40, 'was_impossible': False}  \n",
       "1          {'actual_k': 40, 'was_impossible': False}  \n",
       "2          {'actual_k': 32, 'was_impossible': False}  \n",
       "3          {'actual_k': 29, 'was_impossible': False}  \n",
       "4  {'was_impossible': True, 'reason': 'User and/o...  "
      ]
     },
     "execution_count": 40,
     "metadata": {},
     "output_type": "execute_result"
    }
   ],
   "source": [
    "pred[:5]\n",
    "pred_df = pd.DataFrame(pred, columns=[\"raw_user_id\", \"raw_item_id\", \"actual_user_rating\", \"estimated_user_rating\", \"details\"])\n",
    "pred_df.head()"
   ]
  },
  {
   "cell_type": "markdown",
   "id": "fb290451-1522-4cb2-bb1a-71924a2fb072",
   "metadata": {},
   "source": [
    "#### Evaluation"
   ]
  },
  {
   "cell_type": "code",
   "execution_count": 41,
   "id": "4f98278a-5efd-4dee-a212-ac27bc154b18",
   "metadata": {},
   "outputs": [
    {
     "name": "stdout",
     "output_type": "stream",
     "text": [
      "MAE:  0.7441\n"
     ]
    },
    {
     "data": {
      "text/plain": [
       "0.744086519845257"
      ]
     },
     "execution_count": 41,
     "metadata": {},
     "output_type": "execute_result"
    }
   ],
   "source": [
    "# Mean Absolute Error\n",
    "accuracy.mae(pred)"
   ]
  },
  {
   "cell_type": "code",
   "execution_count": 42,
   "id": "e47fea41-3fa5-4df8-b638-f3a94e5c6f77",
   "metadata": {},
   "outputs": [
    {
     "name": "stdout",
     "output_type": "stream",
     "text": [
      "RMSE: 0.9658\n"
     ]
    },
    {
     "data": {
      "text/plain": [
       "0.965786990056666"
      ]
     },
     "execution_count": 42,
     "metadata": {},
     "output_type": "execute_result"
    }
   ],
   "source": [
    "# Root Mean Square Error\n",
    "accuracy.rmse(pred)"
   ]
  },
  {
   "cell_type": "code",
   "execution_count": 43,
   "id": "b923340a-2334-4919-bb5d-6bc84fd53dfc",
   "metadata": {},
   "outputs": [
    {
     "name": "stdout",
     "output_type": "stream",
     "text": [
      "FCP:  0.6704\n"
     ]
    },
    {
     "data": {
      "text/plain": [
       "0.6703876392289744"
      ]
     },
     "execution_count": 43,
     "metadata": {},
     "output_type": "execute_result"
    }
   ],
   "source": [
    "# Fraction of Concordant Pairs\n",
    "accuracy.fcp(pred)"
   ]
  },
  {
   "cell_type": "markdown",
   "id": "b9319d6f-9f92-45f8-9eef-061d1ef05554",
   "metadata": {},
   "source": [
    "**manual graphics**\n",
    "\n",
    "histogram of errors, a box plot or a scatterplot of errors"
   ]
  },
  {
   "cell_type": "code",
   "execution_count": 44,
   "id": "6690ca0a-dce3-488b-8336-d3e2f2b3a79d",
   "metadata": {},
   "outputs": [],
   "source": [
    "# !pip install matplotlib\n",
    "# !pip install seaborn"
   ]
  },
  {
   "cell_type": "code",
   "execution_count": 45,
   "id": "65e350be-9761-4905-a905-8f2b746dab00",
   "metadata": {},
   "outputs": [],
   "source": [
    "# To generate a histogram of errors and a scatterplot of errors, \n",
    "# we must initially calculate the difference between the actual and predicted ratings \n",
    "# — this difference is referred to as the \"error.\"\n",
    "pred_df[\"delta\"] = pred_df[\"actual_user_rating\"] - pred_df[\"estimated_user_rating\"]"
   ]
  },
  {
   "cell_type": "code",
   "execution_count": 46,
   "id": "17096a82-1855-4368-9510-70089ac6e12d",
   "metadata": {},
   "outputs": [],
   "source": [
    "# histogramm\n",
    "# pred_df[\"delta\"].hist(bins=30, figsize=(10, 8));"
   ]
  },
  {
   "cell_type": "code",
   "execution_count": 47,
   "id": "66d563bd-8aa5-4a3f-89ef-0082d46796aa",
   "metadata": {},
   "outputs": [],
   "source": [
    "# box plot\n",
    "# pred_df.plot(kind='box', column='estimated_user_rating', by='actual_user_rating', figsize=(10, 8));"
   ]
  },
  {
   "cell_type": "markdown",
   "id": "0b2e127b-9f20-42d8-ba6f-5134456edbeb",
   "metadata": {},
   "source": [
    "### looping models and metrics"
   ]
  },
  {
   "cell_type": "markdown",
   "id": "6fcd7264-4828-45fa-b8a7-c7180913d281",
   "metadata": {},
   "source": [
    "**my task**\n",
    "\n",
    "try models (other than of knn). whats co clustering?\n",
    "\n",
    "users tend to recommend positive. \n",
    "\n",
    "only few are really neg. in btw. are very few..."
   ]
  },
  {
   "cell_type": "code",
   "execution_count": 48,
   "id": "fae7898a-3851-44d7-9889-d66a0c5aa1de",
   "metadata": {},
   "outputs": [
    {
     "name": "stdout",
     "output_type": "stream",
     "text": [
      "MAE:  0.7441\n"
     ]
    },
    {
     "data": {
      "text/plain": [
       "0.744086519845257"
      ]
     },
     "execution_count": 48,
     "metadata": {},
     "output_type": "execute_result"
    }
   ],
   "source": [
    "accuracy.mae(pred)"
   ]
  },
  {
   "cell_type": "code",
   "execution_count": 49,
   "id": "8f1539e5-ee1f-4033-91bb-9c38736d6ec2",
   "metadata": {},
   "outputs": [
    {
     "name": "stdout",
     "output_type": "stream",
     "text": [
      "Computing the msd similarity matrix...\n",
      "Done computing similarity matrix.\n",
      "MAE:  0.7216\n",
      "RMSE: 0.9406\n",
      "FCP:  0.6713\n",
      "MAE:  0.7234\n",
      "RMSE: 0.9356\n",
      "FCP:  0.6430\n",
      "MAE:  0.6640\n",
      "RMSE: 0.8650\n",
      "FCP:  0.6647\n",
      "MAE:  0.6830\n",
      "RMSE: 0.8943\n",
      "FCP:  0.6590\n"
     ]
    },
    {
     "data": {
      "text/html": [
       "<div>\n",
       "<style scoped>\n",
       "    .dataframe tbody tr th:only-of-type {\n",
       "        vertical-align: middle;\n",
       "    }\n",
       "\n",
       "    .dataframe tbody tr th {\n",
       "        vertical-align: top;\n",
       "    }\n",
       "\n",
       "    .dataframe thead th {\n",
       "        text-align: right;\n",
       "    }\n",
       "</style>\n",
       "<table border=\"1\" class=\"dataframe\">\n",
       "  <thead>\n",
       "    <tr style=\"text-align: right;\">\n",
       "      <th></th>\n",
       "      <th>MAE</th>\n",
       "      <th>RMSE</th>\n",
       "      <th>FCP</th>\n",
       "    </tr>\n",
       "  </thead>\n",
       "  <tbody>\n",
       "    <tr>\n",
       "      <th>KNN</th>\n",
       "      <td>0.721605</td>\n",
       "      <td>0.940581</td>\n",
       "      <td>0.671304</td>\n",
       "    </tr>\n",
       "    <tr>\n",
       "      <th>CoCluster</th>\n",
       "      <td>0.723359</td>\n",
       "      <td>0.935561</td>\n",
       "      <td>0.642990</td>\n",
       "    </tr>\n",
       "    <tr>\n",
       "      <th>SVD</th>\n",
       "      <td>0.664017</td>\n",
       "      <td>0.864951</td>\n",
       "      <td>0.664731</td>\n",
       "    </tr>\n",
       "    <tr>\n",
       "      <th>Slope</th>\n",
       "      <td>0.683045</td>\n",
       "      <td>0.894255</td>\n",
       "      <td>0.658961</td>\n",
       "    </tr>\n",
       "  </tbody>\n",
       "</table>\n",
       "</div>"
      ],
      "text/plain": [
       "                MAE      RMSE       FCP\n",
       "KNN        0.721605  0.940581  0.671304\n",
       "CoCluster  0.723359  0.935561  0.642990\n",
       "SVD        0.664017  0.864951  0.664731\n",
       "Slope      0.683045  0.894255  0.658961"
      ]
     },
     "execution_count": 49,
     "metadata": {},
     "output_type": "execute_result"
    }
   ],
   "source": [
    "# Loop Lists\n",
    "methods = [\"MAE\", \"RMSE\", \"FCP\"]                      #   ->n \n",
    "models =  [\"KNN\", \"CoCluster\", \"SVD\", \"Slope\"]        #   ->m\n",
    "model_ops = [KNNBasic(name ='cosine', user_based=True),\n",
    "             CoClustering(n_cltr_u=3, n_cltr_i=3, n_epochs=20, random_state=888, verbose=False), \n",
    "             SVD(n_factors=100, n_epochs=20, biased=True, init_mean=0, init_std_dev=0.1, lr_all=0.005, reg_all=0.02), SlopeOne()]  # -> o\n",
    "# loop\n",
    "model_scores_df = pd.DataFrame({})\n",
    "for m, o in zip(models, model_ops):\n",
    "    model = o\n",
    "    model.fit(train)\n",
    "    pred = model.test(test)\n",
    "    method_ops = [accuracy.mae(pred), accuracy.rmse(pred), accuracy.fcp(pred)] #   ->s\n",
    "    for n, s  in zip(methods, method_ops):\n",
    "            model_scores_df.loc[m, n] = s\n",
    "#results\n",
    "model_scores_df"
   ]
  },
  {
   "cell_type": "code",
   "execution_count": 50,
   "id": "aa65e144-7da3-4431-a3a6-fa59c25cd135",
   "metadata": {},
   "outputs": [],
   "source": [
    "# df = model_scores_df.T\n",
    "# plt.figure(figsize=(14, 4))\n",
    "# heatmap = sns.heatmap(df.T, annot=True, cmap=\"Spectral\", fmt=\".4f\", linewidths=0.01, cbar_kws={\"label\": \"Metric Value\"})\n",
    "# heatmap.set_xticklabels(heatmap.get_xticklabels(), rotation=45, horizontalalignment='right')\n",
    "# plt.title('Prediction Comparison')\n",
    "# plt.show()"
   ]
  },
  {
   "cell_type": "markdown",
   "id": "bf415346-ea97-4055-a22a-2c97bba11cc8",
   "metadata": {},
   "source": [
    "### full_train and anti_test datasets\n",
    "\n",
    "data.build_full_trainset()\n",
    "\n",
    "full_train.build_anti_testset()"
   ]
  },
  {
   "cell_type": "code",
   "execution_count": 51,
   "id": "1c82642e-18c7-428b-9f55-dd0ce783e6f4",
   "metadata": {},
   "outputs": [],
   "source": [
    "from surprise import Reader, Dataset, KNNBasic, accuracy\n",
    "from surprise.model_selection import train_test_split\n",
    "\n",
    "reader = Reader(rating_scale=(0.5, 5))                                      # set the scale of the ratings according to README\n",
    "data = Dataset.load_from_df(ratings.drop(\"timestamp\", axis=1), reader)      # create Dataset which Surprise can work with\n",
    "# trainset, testset = train_test_split(data, test_size=0.2, random_state=1)"
   ]
  },
  {
   "cell_type": "code",
   "execution_count": 52,
   "id": "e9dcede1-83d3-47f2-9c42-779cb9749079",
   "metadata": {},
   "outputs": [],
   "source": [
    "full_train = data.build_full_trainset()\n",
    "testset = full_train.build_anti_testset()"
   ]
  },
  {
   "cell_type": "code",
   "execution_count": 53,
   "id": "d13b2fa6-295d-46bb-962d-37117ec92bf8",
   "metadata": {},
   "outputs": [
    {
     "data": {
      "text/plain": [
       "[(1, 318, 3.501556983616962),\n",
       " (1, 1704, 3.501556983616962),\n",
       " (1, 6874, 3.501556983616962),\n",
       " (1, 8798, 3.501556983616962),\n",
       " (1, 46970, 3.501556983616962)]"
      ]
     },
     "execution_count": 53,
     "metadata": {},
     "output_type": "execute_result"
    }
   ],
   "source": [
    "testset[:5]"
   ]
  },
  {
   "cell_type": "code",
   "execution_count": 54,
   "id": "0a9410ce-1f4c-48e7-84af-ef13224513e7",
   "metadata": {},
   "outputs": [
    {
     "name": "stdout",
     "output_type": "stream",
     "text": [
      "Computing the cosine similarity matrix...\n",
      "Done computing similarity matrix.\n"
     ]
    }
   ],
   "source": [
    "# model\n",
    "sim_options = {'name': 'cosine', 'user_based': True}\n",
    "knn_model = KNNBasic(sim_options=sim_options)\n",
    "knn_model = knn_model.fit(full_train)"
   ]
  },
  {
   "cell_type": "code",
   "execution_count": 55,
   "id": "592619a1-d10f-47c3-ad5d-347ceb40e818",
   "metadata": {},
   "outputs": [
    {
     "data": {
      "text/html": [
       "<div>\n",
       "<style scoped>\n",
       "    .dataframe tbody tr th:only-of-type {\n",
       "        vertical-align: middle;\n",
       "    }\n",
       "\n",
       "    .dataframe tbody tr th {\n",
       "        vertical-align: top;\n",
       "    }\n",
       "\n",
       "    .dataframe thead th {\n",
       "        text-align: right;\n",
       "    }\n",
       "</style>\n",
       "<table border=\"1\" class=\"dataframe\">\n",
       "  <thead>\n",
       "    <tr style=\"text-align: right;\">\n",
       "      <th></th>\n",
       "      <th>uid</th>\n",
       "      <th>iid</th>\n",
       "      <th>r_ui</th>\n",
       "      <th>est</th>\n",
       "      <th>details</th>\n",
       "    </tr>\n",
       "  </thead>\n",
       "  <tbody>\n",
       "    <tr>\n",
       "      <th>0</th>\n",
       "      <td>1</td>\n",
       "      <td>318</td>\n",
       "      <td>3.501557</td>\n",
       "      <td>4.661920</td>\n",
       "      <td>{'actual_k': 40, 'was_impossible': False}</td>\n",
       "    </tr>\n",
       "    <tr>\n",
       "      <th>1</th>\n",
       "      <td>1</td>\n",
       "      <td>1704</td>\n",
       "      <td>3.501557</td>\n",
       "      <td>4.312342</td>\n",
       "      <td>{'actual_k': 40, 'was_impossible': False}</td>\n",
       "    </tr>\n",
       "    <tr>\n",
       "      <th>2</th>\n",
       "      <td>1</td>\n",
       "      <td>6874</td>\n",
       "      <td>3.501557</td>\n",
       "      <td>4.037832</td>\n",
       "      <td>{'actual_k': 40, 'was_impossible': False}</td>\n",
       "    </tr>\n",
       "    <tr>\n",
       "      <th>3</th>\n",
       "      <td>1</td>\n",
       "      <td>8798</td>\n",
       "      <td>3.501557</td>\n",
       "      <td>3.825442</td>\n",
       "      <td>{'actual_k': 40, 'was_impossible': False}</td>\n",
       "    </tr>\n",
       "    <tr>\n",
       "      <th>4</th>\n",
       "      <td>1</td>\n",
       "      <td>46970</td>\n",
       "      <td>3.501557</td>\n",
       "      <td>3.248789</td>\n",
       "      <td>{'actual_k': 28, 'was_impossible': False}</td>\n",
       "    </tr>\n",
       "    <tr>\n",
       "      <th>...</th>\n",
       "      <td>...</td>\n",
       "      <td>...</td>\n",
       "      <td>...</td>\n",
       "      <td>...</td>\n",
       "      <td>...</td>\n",
       "    </tr>\n",
       "    <tr>\n",
       "      <th>5830799</th>\n",
       "      <td>610</td>\n",
       "      <td>7377</td>\n",
       "      <td>3.501557</td>\n",
       "      <td>3.500000</td>\n",
       "      <td>{'actual_k': 1, 'was_impossible': False}</td>\n",
       "    </tr>\n",
       "    <tr>\n",
       "      <th>5830800</th>\n",
       "      <td>610</td>\n",
       "      <td>8667</td>\n",
       "      <td>3.501557</td>\n",
       "      <td>3.500000</td>\n",
       "      <td>{'actual_k': 1, 'was_impossible': False}</td>\n",
       "    </tr>\n",
       "    <tr>\n",
       "      <th>5830801</th>\n",
       "      <td>610</td>\n",
       "      <td>32302</td>\n",
       "      <td>3.501557</td>\n",
       "      <td>4.000000</td>\n",
       "      <td>{'actual_k': 1, 'was_impossible': False}</td>\n",
       "    </tr>\n",
       "    <tr>\n",
       "      <th>5830802</th>\n",
       "      <td>610</td>\n",
       "      <td>51903</td>\n",
       "      <td>3.501557</td>\n",
       "      <td>2.500000</td>\n",
       "      <td>{'actual_k': 1, 'was_impossible': False}</td>\n",
       "    </tr>\n",
       "    <tr>\n",
       "      <th>5830803</th>\n",
       "      <td>610</td>\n",
       "      <td>137</td>\n",
       "      <td>3.501557</td>\n",
       "      <td>3.000000</td>\n",
       "      <td>{'actual_k': 1, 'was_impossible': False}</td>\n",
       "    </tr>\n",
       "  </tbody>\n",
       "</table>\n",
       "<p>5830804 rows × 5 columns</p>\n",
       "</div>"
      ],
      "text/plain": [
       "         uid    iid      r_ui       est  \\\n",
       "0          1    318  3.501557  4.661920   \n",
       "1          1   1704  3.501557  4.312342   \n",
       "2          1   6874  3.501557  4.037832   \n",
       "3          1   8798  3.501557  3.825442   \n",
       "4          1  46970  3.501557  3.248789   \n",
       "...      ...    ...       ...       ...   \n",
       "5830799  610   7377  3.501557  3.500000   \n",
       "5830800  610   8667  3.501557  3.500000   \n",
       "5830801  610  32302  3.501557  4.000000   \n",
       "5830802  610  51903  3.501557  2.500000   \n",
       "5830803  610    137  3.501557  3.000000   \n",
       "\n",
       "                                           details  \n",
       "0        {'actual_k': 40, 'was_impossible': False}  \n",
       "1        {'actual_k': 40, 'was_impossible': False}  \n",
       "2        {'actual_k': 40, 'was_impossible': False}  \n",
       "3        {'actual_k': 40, 'was_impossible': False}  \n",
       "4        {'actual_k': 28, 'was_impossible': False}  \n",
       "...                                            ...  \n",
       "5830799   {'actual_k': 1, 'was_impossible': False}  \n",
       "5830800   {'actual_k': 1, 'was_impossible': False}  \n",
       "5830801   {'actual_k': 1, 'was_impossible': False}  \n",
       "5830802   {'actual_k': 1, 'was_impossible': False}  \n",
       "5830803   {'actual_k': 1, 'was_impossible': False}  \n",
       "\n",
       "[5830804 rows x 5 columns]"
      ]
     },
     "execution_count": 55,
     "metadata": {},
     "output_type": "execute_result"
    }
   ],
   "source": [
    "# pred\n",
    "predictions = knn_model.test(testset)\n",
    "predict_df = pd.DataFrame(predictions, columns=[\"uid\", \"iid\", \"r_ui\", \"est\", \"details\"])\n",
    "predict_df"
   ]
  },
  {
   "cell_type": "markdown",
   "id": "94cfa4a2-af75-4ea8-9c62-f716d10184e0",
   "metadata": {},
   "source": [
    "exploring predictions:\n",
    "- uid: Represents the raw user id\n",
    "- iid: Represents the raw item id\n",
    "- **r_ui**: Denotes the true rating provided by the user\n",
    "- **est**: Represents the estimated rating calculated by the model\n",
    "- details: additional information and space to include any relevant details"
   ]
  },
  {
   "cell_type": "code",
   "execution_count": 60,
   "id": "f45de6fc-7883-4aeb-be07-c7a50a8fa830",
   "metadata": {},
   "outputs": [],
   "source": [
    "model = knn_model\n",
    "user_id = 3\n",
    "n = 10"
   ]
  },
  {
   "cell_type": "code",
   "execution_count": 61,
   "id": "7d504b30-8bc0-49c4-a6c8-885c2f313598",
   "metadata": {},
   "outputs": [],
   "source": [
    "# function that will provide the top n recommendations for a specified user\n",
    "def get_top_n(testset, model, user_id, n):\n",
    "    \n",
    "    # Filter the testset to include only rows with the specified user_id\n",
    "    filtered_testset = [row for row in testset if row[0] == user_id]\n",
    "\n",
    "    # Make predictions on the filtered testset\n",
    "    predictions = knn_model.test(filtered_testset)\n",
    "\n",
    "    # Create a DataFrame from the predictions and return the top n predictions based on the estimated ratings ('est')\n",
    "    top_n_predictions_df = pd.DataFrame(predictions, columns=[\"uid\", \"iid\", \"r_ui\", \"est\", \"details\"]).sort_values(by='est', ascending=False).head(n)\n",
    "\n",
    "    return top_n_predictions_df"
   ]
  },
  {
   "cell_type": "code",
   "execution_count": 62,
   "id": "61dd1ed5-4449-4a38-b9d7-15d8848d48d9",
   "metadata": {
    "tags": []
   },
   "outputs": [
    {
     "data": {
      "text/html": [
       "<div>\n",
       "<style scoped>\n",
       "    .dataframe tbody tr th:only-of-type {\n",
       "        vertical-align: middle;\n",
       "    }\n",
       "\n",
       "    .dataframe tbody tr th {\n",
       "        vertical-align: top;\n",
       "    }\n",
       "\n",
       "    .dataframe thead th {\n",
       "        text-align: right;\n",
       "    }\n",
       "</style>\n",
       "<table border=\"1\" class=\"dataframe\">\n",
       "  <thead>\n",
       "    <tr style=\"text-align: right;\">\n",
       "      <th></th>\n",
       "      <th>uid</th>\n",
       "      <th>iid</th>\n",
       "      <th>r_ui</th>\n",
       "      <th>est</th>\n",
       "      <th>details</th>\n",
       "    </tr>\n",
       "  </thead>\n",
       "  <tbody>\n",
       "    <tr>\n",
       "      <th>8519</th>\n",
       "      <td>3</td>\n",
       "      <td>93320</td>\n",
       "      <td>3.501557</td>\n",
       "      <td>5.0</td>\n",
       "      <td>{'actual_k': 1, 'was_impossible': False}</td>\n",
       "    </tr>\n",
       "    <tr>\n",
       "      <th>5119</th>\n",
       "      <td>3</td>\n",
       "      <td>26078</td>\n",
       "      <td>3.501557</td>\n",
       "      <td>5.0</td>\n",
       "      <td>{'actual_k': 1, 'was_impossible': False}</td>\n",
       "    </tr>\n",
       "    <tr>\n",
       "      <th>3122</th>\n",
       "      <td>3</td>\n",
       "      <td>92494</td>\n",
       "      <td>3.501557</td>\n",
       "      <td>5.0</td>\n",
       "      <td>{'actual_k': 1, 'was_impossible': False}</td>\n",
       "    </tr>\n",
       "    <tr>\n",
       "      <th>6118</th>\n",
       "      <td>3</td>\n",
       "      <td>7815</td>\n",
       "      <td>3.501557</td>\n",
       "      <td>5.0</td>\n",
       "      <td>{'actual_k': 1, 'was_impossible': False}</td>\n",
       "    </tr>\n",
       "    <tr>\n",
       "      <th>5615</th>\n",
       "      <td>3</td>\n",
       "      <td>146662</td>\n",
       "      <td>3.501557</td>\n",
       "      <td>5.0</td>\n",
       "      <td>{'actual_k': 1, 'was_impossible': False}</td>\n",
       "    </tr>\n",
       "    <tr>\n",
       "      <th>3876</th>\n",
       "      <td>3</td>\n",
       "      <td>121781</td>\n",
       "      <td>3.501557</td>\n",
       "      <td>5.0</td>\n",
       "      <td>{'actual_k': 1, 'was_impossible': False}</td>\n",
       "    </tr>\n",
       "    <tr>\n",
       "      <th>3877</th>\n",
       "      <td>3</td>\n",
       "      <td>122092</td>\n",
       "      <td>3.501557</td>\n",
       "      <td>5.0</td>\n",
       "      <td>{'actual_k': 1, 'was_impossible': False}</td>\n",
       "    </tr>\n",
       "    <tr>\n",
       "      <th>7346</th>\n",
       "      <td>3</td>\n",
       "      <td>5537</td>\n",
       "      <td>3.501557</td>\n",
       "      <td>5.0</td>\n",
       "      <td>{'actual_k': 1, 'was_impossible': False}</td>\n",
       "    </tr>\n",
       "    <tr>\n",
       "      <th>3879</th>\n",
       "      <td>3</td>\n",
       "      <td>124404</td>\n",
       "      <td>3.501557</td>\n",
       "      <td>5.0</td>\n",
       "      <td>{'actual_k': 1, 'was_impossible': False}</td>\n",
       "    </tr>\n",
       "    <tr>\n",
       "      <th>3882</th>\n",
       "      <td>3</td>\n",
       "      <td>126088</td>\n",
       "      <td>3.501557</td>\n",
       "      <td>5.0</td>\n",
       "      <td>{'actual_k': 1, 'was_impossible': False}</td>\n",
       "    </tr>\n",
       "  </tbody>\n",
       "</table>\n",
       "</div>"
      ],
      "text/plain": [
       "      uid     iid      r_ui  est                                   details\n",
       "8519    3   93320  3.501557  5.0  {'actual_k': 1, 'was_impossible': False}\n",
       "5119    3   26078  3.501557  5.0  {'actual_k': 1, 'was_impossible': False}\n",
       "3122    3   92494  3.501557  5.0  {'actual_k': 1, 'was_impossible': False}\n",
       "6118    3    7815  3.501557  5.0  {'actual_k': 1, 'was_impossible': False}\n",
       "5615    3  146662  3.501557  5.0  {'actual_k': 1, 'was_impossible': False}\n",
       "3876    3  121781  3.501557  5.0  {'actual_k': 1, 'was_impossible': False}\n",
       "3877    3  122092  3.501557  5.0  {'actual_k': 1, 'was_impossible': False}\n",
       "7346    3    5537  3.501557  5.0  {'actual_k': 1, 'was_impossible': False}\n",
       "3879    3  124404  3.501557  5.0  {'actual_k': 1, 'was_impossible': False}\n",
       "3882    3  126088  3.501557  5.0  {'actual_k': 1, 'was_impossible': False}"
      ]
     },
     "execution_count": 62,
     "metadata": {},
     "output_type": "execute_result"
    }
   ],
   "source": [
    "# ---helm box---\n",
    "\n",
    "top_n_df = get_top_n(testset=testset, model=knn_model, user_id=3, n=10)\n",
    "top_n_df"
   ]
  },
  {
   "cell_type": "code",
   "execution_count": 63,
   "id": "715b697c-1bd8-4dbc-99c2-c9ef0404bbbc",
   "metadata": {},
   "outputs": [
    {
     "data": {
      "text/html": [
       "<div>\n",
       "<style scoped>\n",
       "    .dataframe tbody tr th:only-of-type {\n",
       "        vertical-align: middle;\n",
       "    }\n",
       "\n",
       "    .dataframe tbody tr th {\n",
       "        vertical-align: top;\n",
       "    }\n",
       "\n",
       "    .dataframe thead th {\n",
       "        text-align: right;\n",
       "    }\n",
       "</style>\n",
       "<table border=\"1\" class=\"dataframe\">\n",
       "  <thead>\n",
       "    <tr style=\"text-align: right;\">\n",
       "      <th></th>\n",
       "      <th>movieId</th>\n",
       "      <th>estimated_rating</th>\n",
       "    </tr>\n",
       "  </thead>\n",
       "  <tbody>\n",
       "    <tr>\n",
       "      <th>8519</th>\n",
       "      <td>93320</td>\n",
       "      <td>5.0</td>\n",
       "    </tr>\n",
       "    <tr>\n",
       "      <th>5119</th>\n",
       "      <td>26078</td>\n",
       "      <td>5.0</td>\n",
       "    </tr>\n",
       "    <tr>\n",
       "      <th>3122</th>\n",
       "      <td>92494</td>\n",
       "      <td>5.0</td>\n",
       "    </tr>\n",
       "    <tr>\n",
       "      <th>6118</th>\n",
       "      <td>7815</td>\n",
       "      <td>5.0</td>\n",
       "    </tr>\n",
       "    <tr>\n",
       "      <th>5615</th>\n",
       "      <td>146662</td>\n",
       "      <td>5.0</td>\n",
       "    </tr>\n",
       "    <tr>\n",
       "      <th>3876</th>\n",
       "      <td>121781</td>\n",
       "      <td>5.0</td>\n",
       "    </tr>\n",
       "    <tr>\n",
       "      <th>3877</th>\n",
       "      <td>122092</td>\n",
       "      <td>5.0</td>\n",
       "    </tr>\n",
       "    <tr>\n",
       "      <th>7346</th>\n",
       "      <td>5537</td>\n",
       "      <td>5.0</td>\n",
       "    </tr>\n",
       "    <tr>\n",
       "      <th>3879</th>\n",
       "      <td>124404</td>\n",
       "      <td>5.0</td>\n",
       "    </tr>\n",
       "    <tr>\n",
       "      <th>3882</th>\n",
       "      <td>126088</td>\n",
       "      <td>5.0</td>\n",
       "    </tr>\n",
       "  </tbody>\n",
       "</table>\n",
       "</div>"
      ],
      "text/plain": [
       "      movieId  estimated_rating\n",
       "8519    93320               5.0\n",
       "5119    26078               5.0\n",
       "3122    92494               5.0\n",
       "6118     7815               5.0\n",
       "5615   146662               5.0\n",
       "3876   121781               5.0\n",
       "3877   122092               5.0\n",
       "7346     5537               5.0\n",
       "3879   124404               5.0\n",
       "3882   126088               5.0"
      ]
     },
     "execution_count": 63,
     "metadata": {},
     "output_type": "execute_result"
    }
   ],
   "source": [
    "# Creating a DataFrame from the top_n with columns 'movieId' and 'estimated_rating'\n",
    "reduced_top_n_df = top_n_df.loc[:, [\"iid\", \"est\"]].rename(columns={\"iid\": \"movieId\", \"est\": \"estimated_rating\"})\n",
    "reduced_top_n_df"
   ]
  },
  {
   "cell_type": "code",
   "execution_count": 64,
   "id": "0d5e75a4-3326-457d-9636-86d5713c4ac0",
   "metadata": {},
   "outputs": [
    {
     "data": {
      "text/html": [
       "<div>\n",
       "<style scoped>\n",
       "    .dataframe tbody tr th:only-of-type {\n",
       "        vertical-align: middle;\n",
       "    }\n",
       "\n",
       "    .dataframe tbody tr th {\n",
       "        vertical-align: top;\n",
       "    }\n",
       "\n",
       "    .dataframe thead th {\n",
       "        text-align: right;\n",
       "    }\n",
       "</style>\n",
       "<table border=\"1\" class=\"dataframe\">\n",
       "  <thead>\n",
       "    <tr style=\"text-align: right;\">\n",
       "      <th></th>\n",
       "      <th>movieId</th>\n",
       "      <th>estimated_rating</th>\n",
       "      <th>title</th>\n",
       "      <th>genres</th>\n",
       "    </tr>\n",
       "  </thead>\n",
       "  <tbody>\n",
       "    <tr>\n",
       "      <th>0</th>\n",
       "      <td>93320</td>\n",
       "      <td>5.0</td>\n",
       "      <td>Trailer Park Boys (1999)</td>\n",
       "      <td>Comedy|Crime</td>\n",
       "    </tr>\n",
       "    <tr>\n",
       "      <th>1</th>\n",
       "      <td>26078</td>\n",
       "      <td>5.0</td>\n",
       "      <td>Advise and Consent (1962)</td>\n",
       "      <td>Drama</td>\n",
       "    </tr>\n",
       "    <tr>\n",
       "      <th>2</th>\n",
       "      <td>92494</td>\n",
       "      <td>5.0</td>\n",
       "      <td>Dylan Moran: Monster (2004)</td>\n",
       "      <td>Comedy|Documentary</td>\n",
       "    </tr>\n",
       "    <tr>\n",
       "      <th>3</th>\n",
       "      <td>7815</td>\n",
       "      <td>5.0</td>\n",
       "      <td>True Stories (1986)</td>\n",
       "      <td>Comedy|Musical</td>\n",
       "    </tr>\n",
       "    <tr>\n",
       "      <th>4</th>\n",
       "      <td>146662</td>\n",
       "      <td>5.0</td>\n",
       "      <td>Dragons: Gift of the Night Fury (2011)</td>\n",
       "      <td>Adventure|Animation|Comedy</td>\n",
       "    </tr>\n",
       "    <tr>\n",
       "      <th>5</th>\n",
       "      <td>121781</td>\n",
       "      <td>5.0</td>\n",
       "      <td>Stuart Little 3: Call of the Wild (2005)</td>\n",
       "      <td>Animation|Children|Comedy|Fantasy</td>\n",
       "    </tr>\n",
       "    <tr>\n",
       "      <th>6</th>\n",
       "      <td>122092</td>\n",
       "      <td>5.0</td>\n",
       "      <td>Guy X (2005)</td>\n",
       "      <td>Comedy|War</td>\n",
       "    </tr>\n",
       "    <tr>\n",
       "      <th>7</th>\n",
       "      <td>5537</td>\n",
       "      <td>5.0</td>\n",
       "      <td>Satin Rouge (2002)</td>\n",
       "      <td>Drama|Musical</td>\n",
       "    </tr>\n",
       "    <tr>\n",
       "      <th>8</th>\n",
       "      <td>124404</td>\n",
       "      <td>5.0</td>\n",
       "      <td>Snowflake, the White Gorilla (2011)</td>\n",
       "      <td>Adventure|Animation|Children|Comedy</td>\n",
       "    </tr>\n",
       "    <tr>\n",
       "      <th>9</th>\n",
       "      <td>126088</td>\n",
       "      <td>5.0</td>\n",
       "      <td>A Flintstones Christmas Carol (1994)</td>\n",
       "      <td>Animation|Children|Comedy</td>\n",
       "    </tr>\n",
       "  </tbody>\n",
       "</table>\n",
       "</div>"
      ],
      "text/plain": [
       "   movieId  estimated_rating                                     title  \\\n",
       "0    93320               5.0                  Trailer Park Boys (1999)   \n",
       "1    26078               5.0                 Advise and Consent (1962)   \n",
       "2    92494               5.0               Dylan Moran: Monster (2004)   \n",
       "3     7815               5.0                       True Stories (1986)   \n",
       "4   146662               5.0    Dragons: Gift of the Night Fury (2011)   \n",
       "5   121781               5.0  Stuart Little 3: Call of the Wild (2005)   \n",
       "6   122092               5.0                              Guy X (2005)   \n",
       "7     5537               5.0                        Satin Rouge (2002)   \n",
       "8   124404               5.0       Snowflake, the White Gorilla (2011)   \n",
       "9   126088               5.0      A Flintstones Christmas Carol (1994)   \n",
       "\n",
       "                                genres  \n",
       "0                         Comedy|Crime  \n",
       "1                                Drama  \n",
       "2                   Comedy|Documentary  \n",
       "3                       Comedy|Musical  \n",
       "4           Adventure|Animation|Comedy  \n",
       "5    Animation|Children|Comedy|Fantasy  \n",
       "6                           Comedy|War  \n",
       "7                        Drama|Musical  \n",
       "8  Adventure|Animation|Children|Comedy  \n",
       "9            Animation|Children|Comedy  "
      ]
     },
     "execution_count": 64,
     "metadata": {},
     "output_type": "execute_result"
    }
   ],
   "source": [
    "# match movieIds with movie titles and other information\n",
    "m_df = reduced_top_n_df.merge(movies, on=\"movieId\", how=\"left\")"
   ]
  },
  {
   "cell_type": "code",
   "execution_count": 65,
   "id": "27772179-120a-4141-8ef5-067f54aa0f3c",
   "metadata": {},
   "outputs": [
    {
     "data": {
      "text/html": [
       "<div>\n",
       "<style scoped>\n",
       "    .dataframe tbody tr th:only-of-type {\n",
       "        vertical-align: middle;\n",
       "    }\n",
       "\n",
       "    .dataframe tbody tr th {\n",
       "        vertical-align: top;\n",
       "    }\n",
       "\n",
       "    .dataframe thead th {\n",
       "        text-align: right;\n",
       "    }\n",
       "</style>\n",
       "<table border=\"1\" class=\"dataframe\">\n",
       "  <thead>\n",
       "    <tr style=\"text-align: right;\">\n",
       "      <th></th>\n",
       "      <th>movieId</th>\n",
       "      <th>title</th>\n",
       "      <th>estimated_rating</th>\n",
       "      <th>genres</th>\n",
       "    </tr>\n",
       "  </thead>\n",
       "  <tbody>\n",
       "    <tr>\n",
       "      <th>0</th>\n",
       "      <td>93320</td>\n",
       "      <td>Trailer Park Boys (1999)</td>\n",
       "      <td>5.0</td>\n",
       "      <td>Comedy|Crime</td>\n",
       "    </tr>\n",
       "    <tr>\n",
       "      <th>1</th>\n",
       "      <td>26078</td>\n",
       "      <td>Advise and Consent (1962)</td>\n",
       "      <td>5.0</td>\n",
       "      <td>Drama</td>\n",
       "    </tr>\n",
       "    <tr>\n",
       "      <th>2</th>\n",
       "      <td>92494</td>\n",
       "      <td>Dylan Moran: Monster (2004)</td>\n",
       "      <td>5.0</td>\n",
       "      <td>Comedy|Documentary</td>\n",
       "    </tr>\n",
       "    <tr>\n",
       "      <th>3</th>\n",
       "      <td>7815</td>\n",
       "      <td>True Stories (1986)</td>\n",
       "      <td>5.0</td>\n",
       "      <td>Comedy|Musical</td>\n",
       "    </tr>\n",
       "    <tr>\n",
       "      <th>4</th>\n",
       "      <td>146662</td>\n",
       "      <td>Dragons: Gift of the Night Fury (2011)</td>\n",
       "      <td>5.0</td>\n",
       "      <td>Adventure|Animation|Comedy</td>\n",
       "    </tr>\n",
       "    <tr>\n",
       "      <th>5</th>\n",
       "      <td>121781</td>\n",
       "      <td>Stuart Little 3: Call of the Wild (2005)</td>\n",
       "      <td>5.0</td>\n",
       "      <td>Animation|Children|Comedy|Fantasy</td>\n",
       "    </tr>\n",
       "    <tr>\n",
       "      <th>6</th>\n",
       "      <td>122092</td>\n",
       "      <td>Guy X (2005)</td>\n",
       "      <td>5.0</td>\n",
       "      <td>Comedy|War</td>\n",
       "    </tr>\n",
       "    <tr>\n",
       "      <th>7</th>\n",
       "      <td>5537</td>\n",
       "      <td>Satin Rouge (2002)</td>\n",
       "      <td>5.0</td>\n",
       "      <td>Drama|Musical</td>\n",
       "    </tr>\n",
       "    <tr>\n",
       "      <th>8</th>\n",
       "      <td>124404</td>\n",
       "      <td>Snowflake, the White Gorilla (2011)</td>\n",
       "      <td>5.0</td>\n",
       "      <td>Adventure|Animation|Children|Comedy</td>\n",
       "    </tr>\n",
       "    <tr>\n",
       "      <th>9</th>\n",
       "      <td>126088</td>\n",
       "      <td>A Flintstones Christmas Carol (1994)</td>\n",
       "      <td>5.0</td>\n",
       "      <td>Animation|Children|Comedy</td>\n",
       "    </tr>\n",
       "  </tbody>\n",
       "</table>\n",
       "</div>"
      ],
      "text/plain": [
       "   movieId                                     title  estimated_rating  \\\n",
       "0    93320                  Trailer Park Boys (1999)               5.0   \n",
       "1    26078                 Advise and Consent (1962)               5.0   \n",
       "2    92494               Dylan Moran: Monster (2004)               5.0   \n",
       "3     7815                       True Stories (1986)               5.0   \n",
       "4   146662    Dragons: Gift of the Night Fury (2011)               5.0   \n",
       "5   121781  Stuart Little 3: Call of the Wild (2005)               5.0   \n",
       "6   122092                              Guy X (2005)               5.0   \n",
       "7     5537                        Satin Rouge (2002)               5.0   \n",
       "8   124404       Snowflake, the White Gorilla (2011)               5.0   \n",
       "9   126088      A Flintstones Christmas Carol (1994)               5.0   \n",
       "\n",
       "                                genres  \n",
       "0                         Comedy|Crime  \n",
       "1                                Drama  \n",
       "2                   Comedy|Documentary  \n",
       "3                       Comedy|Musical  \n",
       "4           Adventure|Animation|Comedy  \n",
       "5    Animation|Children|Comedy|Fantasy  \n",
       "6                           Comedy|War  \n",
       "7                        Drama|Musical  \n",
       "8  Adventure|Animation|Children|Comedy  \n",
       "9            Animation|Children|Comedy  "
      ]
     },
     "execution_count": 65,
     "metadata": {},
     "output_type": "execute_result"
    }
   ],
   "source": [
    "# Creating a copy of the original DataFrame with duplicate 'movieId' entries removed\n",
    "reduced__original_df = m_df.drop_duplicates(subset='movieId').copy()\n",
    "\n",
    "# Selecting specific columns from the merged DataFrame to include in the final result\n",
    "final_df = reduced__original_df[['movieId', 'title', 'estimated_rating', 'genres']]\n",
    "final_df"
   ]
  },
  {
   "cell_type": "markdown",
   "id": "e17291f1-e22e-4013-8e48-15cc2edf9849",
   "metadata": {},
   "source": [
    "# Resulting Model"
   ]
  },
  {
   "cell_type": "markdown",
   "id": "de3b4b14-2005-40a8-b4d3-49f82c9ae743",
   "metadata": {},
   "source": [
    "## Deployment on Streamlit"
   ]
  }
 ],
 "metadata": {
  "kernelspec": {
   "display_name": "Python 3 (ipykernel)",
   "language": "python",
   "name": "python3"
  },
  "language_info": {
   "codemirror_mode": {
    "name": "ipython",
    "version": 3
   },
   "file_extension": ".py",
   "mimetype": "text/x-python",
   "name": "python",
   "nbconvert_exporter": "python",
   "pygments_lexer": "ipython3",
   "version": "3.10.13"
  },
  "toc-autonumbering": true
 },
 "nbformat": 4,
 "nbformat_minor": 5
}
